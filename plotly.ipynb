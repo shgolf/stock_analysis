{
 "cells": [
  {
   "cell_type": "code",
   "execution_count": 1,
   "metadata": {},
   "outputs": [],
   "source": [
    "import yfinance\n",
    "import numpy as np\n",
    "from plotly.subplots import make_subplots\n",
    "import plotly.graph_objects as go\n",
    "import pandas as pd"
   ]
  },
  {
   "cell_type": "code",
   "execution_count": 2,
   "metadata": {},
   "outputs": [
    {
     "name": "stdout",
     "output_type": "stream",
     "text": [
      "Requirement already satisfied: nbformat in ./.venv/lib/python3.13/site-packages (5.10.4)\n",
      "Requirement already satisfied: fastjsonschema>=2.15 in ./.venv/lib/python3.13/site-packages (from nbformat) (2.21.1)\n",
      "Requirement already satisfied: jsonschema>=2.6 in ./.venv/lib/python3.13/site-packages (from nbformat) (4.23.0)\n",
      "Requirement already satisfied: jupyter-core!=5.0.*,>=4.12 in ./.venv/lib/python3.13/site-packages (from nbformat) (5.7.2)\n",
      "Requirement already satisfied: traitlets>=5.1 in ./.venv/lib/python3.13/site-packages (from nbformat) (5.14.3)\n",
      "Requirement already satisfied: attrs>=22.2.0 in ./.venv/lib/python3.13/site-packages (from jsonschema>=2.6->nbformat) (25.3.0)\n",
      "Requirement already satisfied: jsonschema-specifications>=2023.03.6 in ./.venv/lib/python3.13/site-packages (from jsonschema>=2.6->nbformat) (2024.10.1)\n",
      "Requirement already satisfied: referencing>=0.28.4 in ./.venv/lib/python3.13/site-packages (from jsonschema>=2.6->nbformat) (0.36.2)\n",
      "Requirement already satisfied: rpds-py>=0.7.1 in ./.venv/lib/python3.13/site-packages (from jsonschema>=2.6->nbformat) (0.23.1)\n",
      "Requirement already satisfied: platformdirs>=2.5 in ./.venv/lib/python3.13/site-packages (from jupyter-core!=5.0.*,>=4.12->nbformat) (4.3.6)\n",
      "Note: you may need to restart the kernel to use updated packages.\n"
     ]
    }
   ],
   "source": [
    "pip install --upgrade nbformat"
   ]
  },
  {
   "cell_type": "code",
   "execution_count": 3,
   "metadata": {},
   "outputs": [
    {
     "name": "stdout",
     "output_type": "stream",
     "text": [
      "Name: nbformat\n",
      "Version: 5.10.4\n",
      "Summary: The Jupyter Notebook format\n",
      "Home-page: https://jupyter.org\n",
      "Author: \n",
      "Author-email: Jupyter Development Team <jupyter@googlegroups.com>\n",
      "License: BSD 3-Clause License\n",
      "\n",
      "- Copyright (c) 2001-2015, IPython Development Team\n",
      "- Copyright (c) 2015-, Jupyter Development Team\n",
      "\n",
      "All rights reserved.\n",
      "\n",
      "Redistribution and use in source and binary forms, with or without\n",
      "modification, are permitted provided that the following conditions are met:\n",
      "\n",
      "1. Redistributions of source code must retain the above copyright notice, this\n",
      "   list of conditions and the following disclaimer.\n",
      "\n",
      "2. Redistributions in binary form must reproduce the above copyright notice,\n",
      "   this list of conditions and the following disclaimer in the documentation\n",
      "   and/or other materials provided with the distribution.\n",
      "\n",
      "3. Neither the name of the copyright holder nor the names of its\n",
      "   contributors may be used to endorse or promote products derived from\n",
      "   this software without specific prior written permission.\n",
      "\n",
      "THIS SOFTWARE IS PROVIDED BY THE COPYRIGHT HOLDERS AND CONTRIBUTORS \"AS IS\"\n",
      "AND ANY EXPRESS OR IMPLIED WARRANTIES, INCLUDING, BUT NOT LIMITED TO, THE\n",
      "IMPLIED WARRANTIES OF MERCHANTABILITY AND FITNESS FOR A PARTICULAR PURPOSE ARE\n",
      "DISCLAIMED. IN NO EVENT SHALL THE COPYRIGHT HOLDER OR CONTRIBUTORS BE LIABLE\n",
      "FOR ANY DIRECT, INDIRECT, INCIDENTAL, SPECIAL, EXEMPLARY, OR CONSEQUENTIAL\n",
      "DAMAGES (INCLUDING, BUT NOT LIMITED TO, PROCUREMENT OF SUBSTITUTE GOODS OR\n",
      "SERVICES; LOSS OF USE, DATA, OR PROFITS; OR BUSINESS INTERRUPTION) HOWEVER\n",
      "CAUSED AND ON ANY THEORY OF LIABILITY, WHETHER IN CONTRACT, STRICT LIABILITY,\n",
      "OR TORT (INCLUDING NEGLIGENCE OR OTHERWISE) ARISING IN ANY WAY OUT OF THE USE\n",
      "OF THIS SOFTWARE, EVEN IF ADVISED OF THE POSSIBILITY OF SUCH DAMAGE.\n",
      "Location: /Users/ishikawashouta/Library/CloudStorage/GoogleDrive-shotax20a@gmail.com/マイドライブ/Code/Finance/.venv/lib/python3.13/site-packages\n",
      "Requires: fastjsonschema, jsonschema, jupyter-core, traitlets\n",
      "Required-by: jupyter_server, nbclient, nbconvert\n",
      "Note: you may need to restart the kernel to use updated packages.\n"
     ]
    }
   ],
   "source": [
    "pip show nbformat"
   ]
  },
  {
   "cell_type": "code",
   "execution_count": 7,
   "metadata": {},
   "outputs": [
    {
     "name": "stderr",
     "output_type": "stream",
     "text": [
      "[*********************100%***********************]  1 of 1 completed\n"
     ]
    },
    {
     "data": {
      "text/html": [
       "<div>\n",
       "<style scoped>\n",
       "    .dataframe tbody tr th:only-of-type {\n",
       "        vertical-align: middle;\n",
       "    }\n",
       "\n",
       "    .dataframe tbody tr th {\n",
       "        vertical-align: top;\n",
       "    }\n",
       "\n",
       "    .dataframe thead tr th {\n",
       "        text-align: left;\n",
       "    }\n",
       "\n",
       "    .dataframe thead tr:last-of-type th {\n",
       "        text-align: right;\n",
       "    }\n",
       "</style>\n",
       "<table border=\"1\" class=\"dataframe\">\n",
       "  <thead>\n",
       "    <tr>\n",
       "      <th>Price</th>\n",
       "      <th>Close</th>\n",
       "      <th>High</th>\n",
       "      <th>Low</th>\n",
       "      <th>Open</th>\n",
       "      <th>Volume</th>\n",
       "    </tr>\n",
       "    <tr>\n",
       "      <th>Ticker</th>\n",
       "      <th>GOOG</th>\n",
       "      <th>GOOG</th>\n",
       "      <th>GOOG</th>\n",
       "      <th>GOOG</th>\n",
       "      <th>GOOG</th>\n",
       "    </tr>\n",
       "    <tr>\n",
       "      <th>Date</th>\n",
       "      <th></th>\n",
       "      <th></th>\n",
       "      <th></th>\n",
       "      <th></th>\n",
       "      <th></th>\n",
       "    </tr>\n",
       "  </thead>\n",
       "  <tbody>\n",
       "    <tr>\n",
       "      <th>2024-03-18</th>\n",
       "      <td>147.780045</td>\n",
       "      <td>152.209064</td>\n",
       "      <td>147.441651</td>\n",
       "      <td>148.665848</td>\n",
       "      <td>47676700</td>\n",
       "    </tr>\n",
       "    <tr>\n",
       "      <th>2024-03-19</th>\n",
       "      <td>147.222687</td>\n",
       "      <td>148.914670</td>\n",
       "      <td>146.316973</td>\n",
       "      <td>148.277687</td>\n",
       "      <td>17748400</td>\n",
       "    </tr>\n",
       "    <tr>\n",
       "      <th>2024-03-20</th>\n",
       "      <td>148.974380</td>\n",
       "      <td>149.054005</td>\n",
       "      <td>146.968880</td>\n",
       "      <td>148.088577</td>\n",
       "      <td>17730000</td>\n",
       "    </tr>\n",
       "    <tr>\n",
       "      <th>2024-03-21</th>\n",
       "      <td>148.038818</td>\n",
       "      <td>150.591714</td>\n",
       "      <td>147.312249</td>\n",
       "      <td>149.611372</td>\n",
       "      <td>19843900</td>\n",
       "    </tr>\n",
       "    <tr>\n",
       "      <th>2024-03-22</th>\n",
       "      <td>151.054550</td>\n",
       "      <td>151.840819</td>\n",
       "      <td>149.382462</td>\n",
       "      <td>149.531764</td>\n",
       "      <td>19226300</td>\n",
       "    </tr>\n",
       "    <tr>\n",
       "      <th>...</th>\n",
       "      <td>...</td>\n",
       "      <td>...</td>\n",
       "      <td>...</td>\n",
       "      <td>...</td>\n",
       "      <td>...</td>\n",
       "    </tr>\n",
       "    <tr>\n",
       "      <th>2025-03-12</th>\n",
       "      <td>169.000000</td>\n",
       "      <td>169.529999</td>\n",
       "      <td>165.479996</td>\n",
       "      <td>168.470001</td>\n",
       "      <td>19880100</td>\n",
       "    </tr>\n",
       "    <tr>\n",
       "      <th>2025-03-13</th>\n",
       "      <td>164.729996</td>\n",
       "      <td>168.119995</td>\n",
       "      <td>164.070007</td>\n",
       "      <td>167.979996</td>\n",
       "      <td>15206200</td>\n",
       "    </tr>\n",
       "    <tr>\n",
       "      <th>2025-03-14</th>\n",
       "      <td>167.619995</td>\n",
       "      <td>168.250000</td>\n",
       "      <td>164.509995</td>\n",
       "      <td>165.315002</td>\n",
       "      <td>18611100</td>\n",
       "    </tr>\n",
       "    <tr>\n",
       "      <th>2025-03-17</th>\n",
       "      <td>166.570007</td>\n",
       "      <td>168.460007</td>\n",
       "      <td>165.809998</td>\n",
       "      <td>167.324997</td>\n",
       "      <td>17820100</td>\n",
       "    </tr>\n",
       "    <tr>\n",
       "      <th>2025-03-18</th>\n",
       "      <td>160.289993</td>\n",
       "      <td>166.440002</td>\n",
       "      <td>158.800003</td>\n",
       "      <td>165.960007</td>\n",
       "      <td>10401857</td>\n",
       "    </tr>\n",
       "  </tbody>\n",
       "</table>\n",
       "<p>251 rows × 5 columns</p>\n",
       "</div>"
      ],
      "text/plain": [
       "Price            Close        High         Low        Open    Volume\n",
       "Ticker            GOOG        GOOG        GOOG        GOOG      GOOG\n",
       "Date                                                                \n",
       "2024-03-18  147.780045  152.209064  147.441651  148.665848  47676700\n",
       "2024-03-19  147.222687  148.914670  146.316973  148.277687  17748400\n",
       "2024-03-20  148.974380  149.054005  146.968880  148.088577  17730000\n",
       "2024-03-21  148.038818  150.591714  147.312249  149.611372  19843900\n",
       "2024-03-22  151.054550  151.840819  149.382462  149.531764  19226300\n",
       "...                ...         ...         ...         ...       ...\n",
       "2025-03-12  169.000000  169.529999  165.479996  168.470001  19880100\n",
       "2025-03-13  164.729996  168.119995  164.070007  167.979996  15206200\n",
       "2025-03-14  167.619995  168.250000  164.509995  165.315002  18611100\n",
       "2025-03-17  166.570007  168.460007  165.809998  167.324997  17820100\n",
       "2025-03-18  160.289993  166.440002  158.800003  165.960007  10401857\n",
       "\n",
       "[251 rows x 5 columns]"
      ]
     },
     "execution_count": 7,
     "metadata": {},
     "output_type": "execute_result"
    }
   ],
   "source": [
    "ticker = \"GOOG\"\n",
    "period = \"1y\"\n",
    "interval = \"1d\"\n",
    "data_df = yfinance.download(ticker, period=period, interval=interval)\n",
    "data_df"
   ]
  },
  {
   "cell_type": "code",
   "execution_count": 9,
   "metadata": {},
   "outputs": [],
   "source": [
    "# マルチインデックスカラムの処理\n",
    "if isinstance(data_df.columns, pd.MultiIndex):\n",
    "    # 第1レベル（Price, Close, High, Low, Open）だけをカラムとして使用\n",
    "    data_df.columns = data_df.columns.get_level_values(0)"
   ]
  },
  {
   "cell_type": "code",
   "execution_count": 11,
   "metadata": {},
   "outputs": [
    {
     "data": {
      "application/vnd.plotly.v1+json": {
       "config": {
        "plotlyServerURL": "https://plot.ly"
       },
       "data": [
        {
         "close": {
          "bdata": "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",
          "dtype": "f8"
         },
         "high": {
          "bdata": "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",
          "dtype": "f8"
         },
         "low": {
          "bdata": "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",
          "dtype": "f8"
         },
         "open": {
          "bdata": "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",
          "dtype": "f8"
         },
         "type": "candlestick",
         "x": [
          "2024-03-18T00:00:00.000000000",
          "2024-03-19T00:00:00.000000000",
          "2024-03-20T00:00:00.000000000",
          "2024-03-21T00:00:00.000000000",
          "2024-03-22T00:00:00.000000000",
          "2024-03-25T00:00:00.000000000",
          "2024-03-26T00:00:00.000000000",
          "2024-03-27T00:00:00.000000000",
          "2024-03-28T00:00:00.000000000",
          "2024-04-01T00:00:00.000000000",
          "2024-04-02T00:00:00.000000000",
          "2024-04-03T00:00:00.000000000",
          "2024-04-04T00:00:00.000000000",
          "2024-04-05T00:00:00.000000000",
          "2024-04-08T00:00:00.000000000",
          "2024-04-09T00:00:00.000000000",
          "2024-04-10T00:00:00.000000000",
          "2024-04-11T00:00:00.000000000",
          "2024-04-12T00:00:00.000000000",
          "2024-04-15T00:00:00.000000000",
          "2024-04-16T00:00:00.000000000",
          "2024-04-17T00:00:00.000000000",
          "2024-04-18T00:00:00.000000000",
          "2024-04-19T00:00:00.000000000",
          "2024-04-22T00:00:00.000000000",
          "2024-04-23T00:00:00.000000000",
          "2024-04-24T00:00:00.000000000",
          "2024-04-25T00:00:00.000000000",
          "2024-04-26T00:00:00.000000000",
          "2024-04-29T00:00:00.000000000",
          "2024-04-30T00:00:00.000000000",
          "2024-05-01T00:00:00.000000000",
          "2024-05-02T00:00:00.000000000",
          "2024-05-03T00:00:00.000000000",
          "2024-05-06T00:00:00.000000000",
          "2024-05-07T00:00:00.000000000",
          "2024-05-08T00:00:00.000000000",
          "2024-05-09T00:00:00.000000000",
          "2024-05-10T00:00:00.000000000",
          "2024-05-13T00:00:00.000000000",
          "2024-05-14T00:00:00.000000000",
          "2024-05-15T00:00:00.000000000",
          "2024-05-16T00:00:00.000000000",
          "2024-05-17T00:00:00.000000000",
          "2024-05-20T00:00:00.000000000",
          "2024-05-21T00:00:00.000000000",
          "2024-05-22T00:00:00.000000000",
          "2024-05-23T00:00:00.000000000",
          "2024-05-24T00:00:00.000000000",
          "2024-05-28T00:00:00.000000000",
          "2024-05-29T00:00:00.000000000",
          "2024-05-30T00:00:00.000000000",
          "2024-05-31T00:00:00.000000000",
          "2024-06-03T00:00:00.000000000",
          "2024-06-04T00:00:00.000000000",
          "2024-06-05T00:00:00.000000000",
          "2024-06-06T00:00:00.000000000",
          "2024-06-07T00:00:00.000000000",
          "2024-06-10T00:00:00.000000000",
          "2024-06-11T00:00:00.000000000",
          "2024-06-12T00:00:00.000000000",
          "2024-06-13T00:00:00.000000000",
          "2024-06-14T00:00:00.000000000",
          "2024-06-17T00:00:00.000000000",
          "2024-06-18T00:00:00.000000000",
          "2024-06-20T00:00:00.000000000",
          "2024-06-21T00:00:00.000000000",
          "2024-06-24T00:00:00.000000000",
          "2024-06-25T00:00:00.000000000",
          "2024-06-26T00:00:00.000000000",
          "2024-06-27T00:00:00.000000000",
          "2024-06-28T00:00:00.000000000",
          "2024-07-01T00:00:00.000000000",
          "2024-07-02T00:00:00.000000000",
          "2024-07-03T00:00:00.000000000",
          "2024-07-05T00:00:00.000000000",
          "2024-07-08T00:00:00.000000000",
          "2024-07-09T00:00:00.000000000",
          "2024-07-10T00:00:00.000000000",
          "2024-07-11T00:00:00.000000000",
          "2024-07-12T00:00:00.000000000",
          "2024-07-15T00:00:00.000000000",
          "2024-07-16T00:00:00.000000000",
          "2024-07-17T00:00:00.000000000",
          "2024-07-18T00:00:00.000000000",
          "2024-07-19T00:00:00.000000000",
          "2024-07-22T00:00:00.000000000",
          "2024-07-23T00:00:00.000000000",
          "2024-07-24T00:00:00.000000000",
          "2024-07-25T00:00:00.000000000",
          "2024-07-26T00:00:00.000000000",
          "2024-07-29T00:00:00.000000000",
          "2024-07-30T00:00:00.000000000",
          "2024-07-31T00:00:00.000000000",
          "2024-08-01T00:00:00.000000000",
          "2024-08-02T00:00:00.000000000",
          "2024-08-05T00:00:00.000000000",
          "2024-08-06T00:00:00.000000000",
          "2024-08-07T00:00:00.000000000",
          "2024-08-08T00:00:00.000000000",
          "2024-08-09T00:00:00.000000000",
          "2024-08-12T00:00:00.000000000",
          "2024-08-13T00:00:00.000000000",
          "2024-08-14T00:00:00.000000000",
          "2024-08-15T00:00:00.000000000",
          "2024-08-16T00:00:00.000000000",
          "2024-08-19T00:00:00.000000000",
          "2024-08-20T00:00:00.000000000",
          "2024-08-21T00:00:00.000000000",
          "2024-08-22T00:00:00.000000000",
          "2024-08-23T00:00:00.000000000",
          "2024-08-26T00:00:00.000000000",
          "2024-08-27T00:00:00.000000000",
          "2024-08-28T00:00:00.000000000",
          "2024-08-29T00:00:00.000000000",
          "2024-08-30T00:00:00.000000000",
          "2024-09-03T00:00:00.000000000",
          "2024-09-04T00:00:00.000000000",
          "2024-09-05T00:00:00.000000000",
          "2024-09-06T00:00:00.000000000",
          "2024-09-09T00:00:00.000000000",
          "2024-09-10T00:00:00.000000000",
          "2024-09-11T00:00:00.000000000",
          "2024-09-12T00:00:00.000000000",
          "2024-09-13T00:00:00.000000000",
          "2024-09-16T00:00:00.000000000",
          "2024-09-17T00:00:00.000000000",
          "2024-09-18T00:00:00.000000000",
          "2024-09-19T00:00:00.000000000",
          "2024-09-20T00:00:00.000000000",
          "2024-09-23T00:00:00.000000000",
          "2024-09-24T00:00:00.000000000",
          "2024-09-25T00:00:00.000000000",
          "2024-09-26T00:00:00.000000000",
          "2024-09-27T00:00:00.000000000",
          "2024-09-30T00:00:00.000000000",
          "2024-10-01T00:00:00.000000000",
          "2024-10-02T00:00:00.000000000",
          "2024-10-03T00:00:00.000000000",
          "2024-10-04T00:00:00.000000000",
          "2024-10-07T00:00:00.000000000",
          "2024-10-08T00:00:00.000000000",
          "2024-10-09T00:00:00.000000000",
          "2024-10-10T00:00:00.000000000",
          "2024-10-11T00:00:00.000000000",
          "2024-10-14T00:00:00.000000000",
          "2024-10-15T00:00:00.000000000",
          "2024-10-16T00:00:00.000000000",
          "2024-10-17T00:00:00.000000000",
          "2024-10-18T00:00:00.000000000",
          "2024-10-21T00:00:00.000000000",
          "2024-10-22T00:00:00.000000000",
          "2024-10-23T00:00:00.000000000",
          "2024-10-24T00:00:00.000000000",
          "2024-10-25T00:00:00.000000000",
          "2024-10-28T00:00:00.000000000",
          "2024-10-29T00:00:00.000000000",
          "2024-10-30T00:00:00.000000000",
          "2024-10-31T00:00:00.000000000",
          "2024-11-01T00:00:00.000000000",
          "2024-11-04T00:00:00.000000000",
          "2024-11-05T00:00:00.000000000",
          "2024-11-06T00:00:00.000000000",
          "2024-11-07T00:00:00.000000000",
          "2024-11-08T00:00:00.000000000",
          "2024-11-11T00:00:00.000000000",
          "2024-11-12T00:00:00.000000000",
          "2024-11-13T00:00:00.000000000",
          "2024-11-14T00:00:00.000000000",
          "2024-11-15T00:00:00.000000000",
          "2024-11-18T00:00:00.000000000",
          "2024-11-19T00:00:00.000000000",
          "2024-11-20T00:00:00.000000000",
          "2024-11-21T00:00:00.000000000",
          "2024-11-22T00:00:00.000000000",
          "2024-11-25T00:00:00.000000000",
          "2024-11-26T00:00:00.000000000",
          "2024-11-27T00:00:00.000000000",
          "2024-11-29T00:00:00.000000000",
          "2024-12-02T00:00:00.000000000",
          "2024-12-03T00:00:00.000000000",
          "2024-12-04T00:00:00.000000000",
          "2024-12-05T00:00:00.000000000",
          "2024-12-06T00:00:00.000000000",
          "2024-12-09T00:00:00.000000000",
          "2024-12-10T00:00:00.000000000",
          "2024-12-11T00:00:00.000000000",
          "2024-12-12T00:00:00.000000000",
          "2024-12-13T00:00:00.000000000",
          "2024-12-16T00:00:00.000000000",
          "2024-12-17T00:00:00.000000000",
          "2024-12-18T00:00:00.000000000",
          "2024-12-19T00:00:00.000000000",
          "2024-12-20T00:00:00.000000000",
          "2024-12-23T00:00:00.000000000",
          "2024-12-24T00:00:00.000000000",
          "2024-12-26T00:00:00.000000000",
          "2024-12-27T00:00:00.000000000",
          "2024-12-30T00:00:00.000000000",
          "2024-12-31T00:00:00.000000000",
          "2025-01-02T00:00:00.000000000",
          "2025-01-03T00:00:00.000000000",
          "2025-01-06T00:00:00.000000000",
          "2025-01-07T00:00:00.000000000",
          "2025-01-08T00:00:00.000000000",
          "2025-01-10T00:00:00.000000000",
          "2025-01-13T00:00:00.000000000",
          "2025-01-14T00:00:00.000000000",
          "2025-01-15T00:00:00.000000000",
          "2025-01-16T00:00:00.000000000",
          "2025-01-17T00:00:00.000000000",
          "2025-01-21T00:00:00.000000000",
          "2025-01-22T00:00:00.000000000",
          "2025-01-23T00:00:00.000000000",
          "2025-01-24T00:00:00.000000000",
          "2025-01-27T00:00:00.000000000",
          "2025-01-28T00:00:00.000000000",
          "2025-01-29T00:00:00.000000000",
          "2025-01-30T00:00:00.000000000",
          "2025-01-31T00:00:00.000000000",
          "2025-02-03T00:00:00.000000000",
          "2025-02-04T00:00:00.000000000",
          "2025-02-05T00:00:00.000000000",
          "2025-02-06T00:00:00.000000000",
          "2025-02-07T00:00:00.000000000",
          "2025-02-10T00:00:00.000000000",
          "2025-02-11T00:00:00.000000000",
          "2025-02-12T00:00:00.000000000",
          "2025-02-13T00:00:00.000000000",
          "2025-02-14T00:00:00.000000000",
          "2025-02-18T00:00:00.000000000",
          "2025-02-19T00:00:00.000000000",
          "2025-02-20T00:00:00.000000000",
          "2025-02-21T00:00:00.000000000",
          "2025-02-24T00:00:00.000000000",
          "2025-02-25T00:00:00.000000000",
          "2025-02-26T00:00:00.000000000",
          "2025-02-27T00:00:00.000000000",
          "2025-02-28T00:00:00.000000000",
          "2025-03-03T00:00:00.000000000",
          "2025-03-04T00:00:00.000000000",
          "2025-03-05T00:00:00.000000000",
          "2025-03-06T00:00:00.000000000",
          "2025-03-07T00:00:00.000000000",
          "2025-03-10T00:00:00.000000000",
          "2025-03-11T00:00:00.000000000",
          "2025-03-12T00:00:00.000000000",
          "2025-03-13T00:00:00.000000000",
          "2025-03-14T00:00:00.000000000",
          "2025-03-17T00:00:00.000000000",
          "2025-03-18T00:00:00.000000000"
         ]
        }
       ],
       "layout": {
        "template": {
         "data": {
          "bar": [
           {
            "error_x": {
             "color": "#2a3f5f"
            },
            "error_y": {
             "color": "#2a3f5f"
            },
            "marker": {
             "line": {
              "color": "#E5ECF6",
              "width": 0.5
             },
             "pattern": {
              "fillmode": "overlay",
              "size": 10,
              "solidity": 0.2
             }
            },
            "type": "bar"
           }
          ],
          "barpolar": [
           {
            "marker": {
             "line": {
              "color": "#E5ECF6",
              "width": 0.5
             },
             "pattern": {
              "fillmode": "overlay",
              "size": 10,
              "solidity": 0.2
             }
            },
            "type": "barpolar"
           }
          ],
          "carpet": [
           {
            "aaxis": {
             "endlinecolor": "#2a3f5f",
             "gridcolor": "white",
             "linecolor": "white",
             "minorgridcolor": "white",
             "startlinecolor": "#2a3f5f"
            },
            "baxis": {
             "endlinecolor": "#2a3f5f",
             "gridcolor": "white",
             "linecolor": "white",
             "minorgridcolor": "white",
             "startlinecolor": "#2a3f5f"
            },
            "type": "carpet"
           }
          ],
          "choropleth": [
           {
            "colorbar": {
             "outlinewidth": 0,
             "ticks": ""
            },
            "type": "choropleth"
           }
          ],
          "contour": [
           {
            "colorbar": {
             "outlinewidth": 0,
             "ticks": ""
            },
            "colorscale": [
             [
              0,
              "#0d0887"
             ],
             [
              0.1111111111111111,
              "#46039f"
             ],
             [
              0.2222222222222222,
              "#7201a8"
             ],
             [
              0.3333333333333333,
              "#9c179e"
             ],
             [
              0.4444444444444444,
              "#bd3786"
             ],
             [
              0.5555555555555556,
              "#d8576b"
             ],
             [
              0.6666666666666666,
              "#ed7953"
             ],
             [
              0.7777777777777778,
              "#fb9f3a"
             ],
             [
              0.8888888888888888,
              "#fdca26"
             ],
             [
              1,
              "#f0f921"
             ]
            ],
            "type": "contour"
           }
          ],
          "contourcarpet": [
           {
            "colorbar": {
             "outlinewidth": 0,
             "ticks": ""
            },
            "type": "contourcarpet"
           }
          ],
          "heatmap": [
           {
            "colorbar": {
             "outlinewidth": 0,
             "ticks": ""
            },
            "colorscale": [
             [
              0,
              "#0d0887"
             ],
             [
              0.1111111111111111,
              "#46039f"
             ],
             [
              0.2222222222222222,
              "#7201a8"
             ],
             [
              0.3333333333333333,
              "#9c179e"
             ],
             [
              0.4444444444444444,
              "#bd3786"
             ],
             [
              0.5555555555555556,
              "#d8576b"
             ],
             [
              0.6666666666666666,
              "#ed7953"
             ],
             [
              0.7777777777777778,
              "#fb9f3a"
             ],
             [
              0.8888888888888888,
              "#fdca26"
             ],
             [
              1,
              "#f0f921"
             ]
            ],
            "type": "heatmap"
           }
          ],
          "histogram": [
           {
            "marker": {
             "pattern": {
              "fillmode": "overlay",
              "size": 10,
              "solidity": 0.2
             }
            },
            "type": "histogram"
           }
          ],
          "histogram2d": [
           {
            "colorbar": {
             "outlinewidth": 0,
             "ticks": ""
            },
            "colorscale": [
             [
              0,
              "#0d0887"
             ],
             [
              0.1111111111111111,
              "#46039f"
             ],
             [
              0.2222222222222222,
              "#7201a8"
             ],
             [
              0.3333333333333333,
              "#9c179e"
             ],
             [
              0.4444444444444444,
              "#bd3786"
             ],
             [
              0.5555555555555556,
              "#d8576b"
             ],
             [
              0.6666666666666666,
              "#ed7953"
             ],
             [
              0.7777777777777778,
              "#fb9f3a"
             ],
             [
              0.8888888888888888,
              "#fdca26"
             ],
             [
              1,
              "#f0f921"
             ]
            ],
            "type": "histogram2d"
           }
          ],
          "histogram2dcontour": [
           {
            "colorbar": {
             "outlinewidth": 0,
             "ticks": ""
            },
            "colorscale": [
             [
              0,
              "#0d0887"
             ],
             [
              0.1111111111111111,
              "#46039f"
             ],
             [
              0.2222222222222222,
              "#7201a8"
             ],
             [
              0.3333333333333333,
              "#9c179e"
             ],
             [
              0.4444444444444444,
              "#bd3786"
             ],
             [
              0.5555555555555556,
              "#d8576b"
             ],
             [
              0.6666666666666666,
              "#ed7953"
             ],
             [
              0.7777777777777778,
              "#fb9f3a"
             ],
             [
              0.8888888888888888,
              "#fdca26"
             ],
             [
              1,
              "#f0f921"
             ]
            ],
            "type": "histogram2dcontour"
           }
          ],
          "mesh3d": [
           {
            "colorbar": {
             "outlinewidth": 0,
             "ticks": ""
            },
            "type": "mesh3d"
           }
          ],
          "parcoords": [
           {
            "line": {
             "colorbar": {
              "outlinewidth": 0,
              "ticks": ""
             }
            },
            "type": "parcoords"
           }
          ],
          "pie": [
           {
            "automargin": true,
            "type": "pie"
           }
          ],
          "scatter": [
           {
            "fillpattern": {
             "fillmode": "overlay",
             "size": 10,
             "solidity": 0.2
            },
            "type": "scatter"
           }
          ],
          "scatter3d": [
           {
            "line": {
             "colorbar": {
              "outlinewidth": 0,
              "ticks": ""
             }
            },
            "marker": {
             "colorbar": {
              "outlinewidth": 0,
              "ticks": ""
             }
            },
            "type": "scatter3d"
           }
          ],
          "scattercarpet": [
           {
            "marker": {
             "colorbar": {
              "outlinewidth": 0,
              "ticks": ""
             }
            },
            "type": "scattercarpet"
           }
          ],
          "scattergeo": [
           {
            "marker": {
             "colorbar": {
              "outlinewidth": 0,
              "ticks": ""
             }
            },
            "type": "scattergeo"
           }
          ],
          "scattergl": [
           {
            "marker": {
             "colorbar": {
              "outlinewidth": 0,
              "ticks": ""
             }
            },
            "type": "scattergl"
           }
          ],
          "scattermap": [
           {
            "marker": {
             "colorbar": {
              "outlinewidth": 0,
              "ticks": ""
             }
            },
            "type": "scattermap"
           }
          ],
          "scattermapbox": [
           {
            "marker": {
             "colorbar": {
              "outlinewidth": 0,
              "ticks": ""
             }
            },
            "type": "scattermapbox"
           }
          ],
          "scatterpolar": [
           {
            "marker": {
             "colorbar": {
              "outlinewidth": 0,
              "ticks": ""
             }
            },
            "type": "scatterpolar"
           }
          ],
          "scatterpolargl": [
           {
            "marker": {
             "colorbar": {
              "outlinewidth": 0,
              "ticks": ""
             }
            },
            "type": "scatterpolargl"
           }
          ],
          "scatterternary": [
           {
            "marker": {
             "colorbar": {
              "outlinewidth": 0,
              "ticks": ""
             }
            },
            "type": "scatterternary"
           }
          ],
          "surface": [
           {
            "colorbar": {
             "outlinewidth": 0,
             "ticks": ""
            },
            "colorscale": [
             [
              0,
              "#0d0887"
             ],
             [
              0.1111111111111111,
              "#46039f"
             ],
             [
              0.2222222222222222,
              "#7201a8"
             ],
             [
              0.3333333333333333,
              "#9c179e"
             ],
             [
              0.4444444444444444,
              "#bd3786"
             ],
             [
              0.5555555555555556,
              "#d8576b"
             ],
             [
              0.6666666666666666,
              "#ed7953"
             ],
             [
              0.7777777777777778,
              "#fb9f3a"
             ],
             [
              0.8888888888888888,
              "#fdca26"
             ],
             [
              1,
              "#f0f921"
             ]
            ],
            "type": "surface"
           }
          ],
          "table": [
           {
            "cells": {
             "fill": {
              "color": "#EBF0F8"
             },
             "line": {
              "color": "white"
             }
            },
            "header": {
             "fill": {
              "color": "#C8D4E3"
             },
             "line": {
              "color": "white"
             }
            },
            "type": "table"
           }
          ]
         },
         "layout": {
          "annotationdefaults": {
           "arrowcolor": "#2a3f5f",
           "arrowhead": 0,
           "arrowwidth": 1
          },
          "autotypenumbers": "strict",
          "coloraxis": {
           "colorbar": {
            "outlinewidth": 0,
            "ticks": ""
           }
          },
          "colorscale": {
           "diverging": [
            [
             0,
             "#8e0152"
            ],
            [
             0.1,
             "#c51b7d"
            ],
            [
             0.2,
             "#de77ae"
            ],
            [
             0.3,
             "#f1b6da"
            ],
            [
             0.4,
             "#fde0ef"
            ],
            [
             0.5,
             "#f7f7f7"
            ],
            [
             0.6,
             "#e6f5d0"
            ],
            [
             0.7,
             "#b8e186"
            ],
            [
             0.8,
             "#7fbc41"
            ],
            [
             0.9,
             "#4d9221"
            ],
            [
             1,
             "#276419"
            ]
           ],
           "sequential": [
            [
             0,
             "#0d0887"
            ],
            [
             0.1111111111111111,
             "#46039f"
            ],
            [
             0.2222222222222222,
             "#7201a8"
            ],
            [
             0.3333333333333333,
             "#9c179e"
            ],
            [
             0.4444444444444444,
             "#bd3786"
            ],
            [
             0.5555555555555556,
             "#d8576b"
            ],
            [
             0.6666666666666666,
             "#ed7953"
            ],
            [
             0.7777777777777778,
             "#fb9f3a"
            ],
            [
             0.8888888888888888,
             "#fdca26"
            ],
            [
             1,
             "#f0f921"
            ]
           ],
           "sequentialminus": [
            [
             0,
             "#0d0887"
            ],
            [
             0.1111111111111111,
             "#46039f"
            ],
            [
             0.2222222222222222,
             "#7201a8"
            ],
            [
             0.3333333333333333,
             "#9c179e"
            ],
            [
             0.4444444444444444,
             "#bd3786"
            ],
            [
             0.5555555555555556,
             "#d8576b"
            ],
            [
             0.6666666666666666,
             "#ed7953"
            ],
            [
             0.7777777777777778,
             "#fb9f3a"
            ],
            [
             0.8888888888888888,
             "#fdca26"
            ],
            [
             1,
             "#f0f921"
            ]
           ]
          },
          "colorway": [
           "#636efa",
           "#EF553B",
           "#00cc96",
           "#ab63fa",
           "#FFA15A",
           "#19d3f3",
           "#FF6692",
           "#B6E880",
           "#FF97FF",
           "#FECB52"
          ],
          "font": {
           "color": "#2a3f5f"
          },
          "geo": {
           "bgcolor": "white",
           "lakecolor": "white",
           "landcolor": "#E5ECF6",
           "showlakes": true,
           "showland": true,
           "subunitcolor": "white"
          },
          "hoverlabel": {
           "align": "left"
          },
          "hovermode": "closest",
          "mapbox": {
           "style": "light"
          },
          "paper_bgcolor": "white",
          "plot_bgcolor": "#E5ECF6",
          "polar": {
           "angularaxis": {
            "gridcolor": "white",
            "linecolor": "white",
            "ticks": ""
           },
           "bgcolor": "#E5ECF6",
           "radialaxis": {
            "gridcolor": "white",
            "linecolor": "white",
            "ticks": ""
           }
          },
          "scene": {
           "xaxis": {
            "backgroundcolor": "#E5ECF6",
            "gridcolor": "white",
            "gridwidth": 2,
            "linecolor": "white",
            "showbackground": true,
            "ticks": "",
            "zerolinecolor": "white"
           },
           "yaxis": {
            "backgroundcolor": "#E5ECF6",
            "gridcolor": "white",
            "gridwidth": 2,
            "linecolor": "white",
            "showbackground": true,
            "ticks": "",
            "zerolinecolor": "white"
           },
           "zaxis": {
            "backgroundcolor": "#E5ECF6",
            "gridcolor": "white",
            "gridwidth": 2,
            "linecolor": "white",
            "showbackground": true,
            "ticks": "",
            "zerolinecolor": "white"
           }
          },
          "shapedefaults": {
           "line": {
            "color": "#2a3f5f"
           }
          },
          "ternary": {
           "aaxis": {
            "gridcolor": "white",
            "linecolor": "white",
            "ticks": ""
           },
           "baxis": {
            "gridcolor": "white",
            "linecolor": "white",
            "ticks": ""
           },
           "bgcolor": "#E5ECF6",
           "caxis": {
            "gridcolor": "white",
            "linecolor": "white",
            "ticks": ""
           }
          },
          "title": {
           "x": 0.05
          },
          "xaxis": {
           "automargin": true,
           "gridcolor": "white",
           "linecolor": "white",
           "ticks": "",
           "title": {
            "standoff": 15
           },
           "zerolinecolor": "white",
           "zerolinewidth": 2
          },
          "yaxis": {
           "automargin": true,
           "gridcolor": "white",
           "linecolor": "white",
           "ticks": "",
           "title": {
            "standoff": 15
           },
           "zerolinecolor": "white",
           "zerolinewidth": 2
          }
         }
        },
        "title": {
         "text": "Google Stock Price"
        },
        "xaxis": {
         "title": {
          "text": "Date"
         }
        },
        "yaxis": {
         "title": {
          "text": "Price(USD)"
         }
        }
       }
      }
     },
     "metadata": {},
     "output_type": "display_data"
    }
   ],
   "source": [
    "fig = go.Figure(\n",
    "    data=[\n",
    "        go.Candlestick(\n",
    "            x=data_df.index,\n",
    "            open=data_df[\"Open\"],\n",
    "            high=data_df[\"High\"],\n",
    "            low=data_df[\"Low\"],\n",
    "            close=data_df[\"Close\"],\n",
    "        ),\n",
    "    ]\n",
    ")\n",
    "\n",
    "fig.update_layout(\n",
    "    title=\"Google Stock Price\",\n",
    "    xaxis_title=\"Date\",\n",
    "    yaxis_title=\"Price(USD)\",\n",
    ")\n",
    "\n",
    "fig.show()\n"
   ]
  },
  {
   "cell_type": "code",
   "execution_count": 18,
   "metadata": {},
   "outputs": [
    {
     "data": {
      "application/vnd.plotly.v1+json": {
       "config": {
        "plotlyServerURL": "https://plot.ly"
       },
       "data": [
        {
         "close": {
          "bdata": "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",
          "dtype": "f8"
         },
         "high": {
          "bdata": "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",
          "dtype": "f8"
         },
         "low": {
          "bdata": "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",
          "dtype": "f8"
         },
         "name": "Candlestick",
         "open": {
          "bdata": "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",
          "dtype": "f8"
         },
         "type": "candlestick",
         "x": [
          "2024-03-18T00:00:00.000000000",
          "2024-03-19T00:00:00.000000000",
          "2024-03-20T00:00:00.000000000",
          "2024-03-21T00:00:00.000000000",
          "2024-03-22T00:00:00.000000000",
          "2024-03-25T00:00:00.000000000",
          "2024-03-26T00:00:00.000000000",
          "2024-03-27T00:00:00.000000000",
          "2024-03-28T00:00:00.000000000",
          "2024-04-01T00:00:00.000000000",
          "2024-04-02T00:00:00.000000000",
          "2024-04-03T00:00:00.000000000",
          "2024-04-04T00:00:00.000000000",
          "2024-04-05T00:00:00.000000000",
          "2024-04-08T00:00:00.000000000",
          "2024-04-09T00:00:00.000000000",
          "2024-04-10T00:00:00.000000000",
          "2024-04-11T00:00:00.000000000",
          "2024-04-12T00:00:00.000000000",
          "2024-04-15T00:00:00.000000000",
          "2024-04-16T00:00:00.000000000",
          "2024-04-17T00:00:00.000000000",
          "2024-04-18T00:00:00.000000000",
          "2024-04-19T00:00:00.000000000",
          "2024-04-22T00:00:00.000000000",
          "2024-04-23T00:00:00.000000000",
          "2024-04-24T00:00:00.000000000",
          "2024-04-25T00:00:00.000000000",
          "2024-04-26T00:00:00.000000000",
          "2024-04-29T00:00:00.000000000",
          "2024-04-30T00:00:00.000000000",
          "2024-05-01T00:00:00.000000000",
          "2024-05-02T00:00:00.000000000",
          "2024-05-03T00:00:00.000000000",
          "2024-05-06T00:00:00.000000000",
          "2024-05-07T00:00:00.000000000",
          "2024-05-08T00:00:00.000000000",
          "2024-05-09T00:00:00.000000000",
          "2024-05-10T00:00:00.000000000",
          "2024-05-13T00:00:00.000000000",
          "2024-05-14T00:00:00.000000000",
          "2024-05-15T00:00:00.000000000",
          "2024-05-16T00:00:00.000000000",
          "2024-05-17T00:00:00.000000000",
          "2024-05-20T00:00:00.000000000",
          "2024-05-21T00:00:00.000000000",
          "2024-05-22T00:00:00.000000000",
          "2024-05-23T00:00:00.000000000",
          "2024-05-24T00:00:00.000000000",
          "2024-05-28T00:00:00.000000000",
          "2024-05-29T00:00:00.000000000",
          "2024-05-30T00:00:00.000000000",
          "2024-05-31T00:00:00.000000000",
          "2024-06-03T00:00:00.000000000",
          "2024-06-04T00:00:00.000000000",
          "2024-06-05T00:00:00.000000000",
          "2024-06-06T00:00:00.000000000",
          "2024-06-07T00:00:00.000000000",
          "2024-06-10T00:00:00.000000000",
          "2024-06-11T00:00:00.000000000",
          "2024-06-12T00:00:00.000000000",
          "2024-06-13T00:00:00.000000000",
          "2024-06-14T00:00:00.000000000",
          "2024-06-17T00:00:00.000000000",
          "2024-06-18T00:00:00.000000000",
          "2024-06-20T00:00:00.000000000",
          "2024-06-21T00:00:00.000000000",
          "2024-06-24T00:00:00.000000000",
          "2024-06-25T00:00:00.000000000",
          "2024-06-26T00:00:00.000000000",
          "2024-06-27T00:00:00.000000000",
          "2024-06-28T00:00:00.000000000",
          "2024-07-01T00:00:00.000000000",
          "2024-07-02T00:00:00.000000000",
          "2024-07-03T00:00:00.000000000",
          "2024-07-05T00:00:00.000000000",
          "2024-07-08T00:00:00.000000000",
          "2024-07-09T00:00:00.000000000",
          "2024-07-10T00:00:00.000000000",
          "2024-07-11T00:00:00.000000000",
          "2024-07-12T00:00:00.000000000",
          "2024-07-15T00:00:00.000000000",
          "2024-07-16T00:00:00.000000000",
          "2024-07-17T00:00:00.000000000",
          "2024-07-18T00:00:00.000000000",
          "2024-07-19T00:00:00.000000000",
          "2024-07-22T00:00:00.000000000",
          "2024-07-23T00:00:00.000000000",
          "2024-07-24T00:00:00.000000000",
          "2024-07-25T00:00:00.000000000",
          "2024-07-26T00:00:00.000000000",
          "2024-07-29T00:00:00.000000000",
          "2024-07-30T00:00:00.000000000",
          "2024-07-31T00:00:00.000000000",
          "2024-08-01T00:00:00.000000000",
          "2024-08-02T00:00:00.000000000",
          "2024-08-05T00:00:00.000000000",
          "2024-08-06T00:00:00.000000000",
          "2024-08-07T00:00:00.000000000",
          "2024-08-08T00:00:00.000000000",
          "2024-08-09T00:00:00.000000000",
          "2024-08-12T00:00:00.000000000",
          "2024-08-13T00:00:00.000000000",
          "2024-08-14T00:00:00.000000000",
          "2024-08-15T00:00:00.000000000",
          "2024-08-16T00:00:00.000000000",
          "2024-08-19T00:00:00.000000000",
          "2024-08-20T00:00:00.000000000",
          "2024-08-21T00:00:00.000000000",
          "2024-08-22T00:00:00.000000000",
          "2024-08-23T00:00:00.000000000",
          "2024-08-26T00:00:00.000000000",
          "2024-08-27T00:00:00.000000000",
          "2024-08-28T00:00:00.000000000",
          "2024-08-29T00:00:00.000000000",
          "2024-08-30T00:00:00.000000000",
          "2024-09-03T00:00:00.000000000",
          "2024-09-04T00:00:00.000000000",
          "2024-09-05T00:00:00.000000000",
          "2024-09-06T00:00:00.000000000",
          "2024-09-09T00:00:00.000000000",
          "2024-09-10T00:00:00.000000000",
          "2024-09-11T00:00:00.000000000",
          "2024-09-12T00:00:00.000000000",
          "2024-09-13T00:00:00.000000000",
          "2024-09-16T00:00:00.000000000",
          "2024-09-17T00:00:00.000000000",
          "2024-09-18T00:00:00.000000000",
          "2024-09-19T00:00:00.000000000",
          "2024-09-20T00:00:00.000000000",
          "2024-09-23T00:00:00.000000000",
          "2024-09-24T00:00:00.000000000",
          "2024-09-25T00:00:00.000000000",
          "2024-09-26T00:00:00.000000000",
          "2024-09-27T00:00:00.000000000",
          "2024-09-30T00:00:00.000000000",
          "2024-10-01T00:00:00.000000000",
          "2024-10-02T00:00:00.000000000",
          "2024-10-03T00:00:00.000000000",
          "2024-10-04T00:00:00.000000000",
          "2024-10-07T00:00:00.000000000",
          "2024-10-08T00:00:00.000000000",
          "2024-10-09T00:00:00.000000000",
          "2024-10-10T00:00:00.000000000",
          "2024-10-11T00:00:00.000000000",
          "2024-10-14T00:00:00.000000000",
          "2024-10-15T00:00:00.000000000",
          "2024-10-16T00:00:00.000000000",
          "2024-10-17T00:00:00.000000000",
          "2024-10-18T00:00:00.000000000",
          "2024-10-21T00:00:00.000000000",
          "2024-10-22T00:00:00.000000000",
          "2024-10-23T00:00:00.000000000",
          "2024-10-24T00:00:00.000000000",
          "2024-10-25T00:00:00.000000000",
          "2024-10-28T00:00:00.000000000",
          "2024-10-29T00:00:00.000000000",
          "2024-10-30T00:00:00.000000000",
          "2024-10-31T00:00:00.000000000",
          "2024-11-01T00:00:00.000000000",
          "2024-11-04T00:00:00.000000000",
          "2024-11-05T00:00:00.000000000",
          "2024-11-06T00:00:00.000000000",
          "2024-11-07T00:00:00.000000000",
          "2024-11-08T00:00:00.000000000",
          "2024-11-11T00:00:00.000000000",
          "2024-11-12T00:00:00.000000000",
          "2024-11-13T00:00:00.000000000",
          "2024-11-14T00:00:00.000000000",
          "2024-11-15T00:00:00.000000000",
          "2024-11-18T00:00:00.000000000",
          "2024-11-19T00:00:00.000000000",
          "2024-11-20T00:00:00.000000000",
          "2024-11-21T00:00:00.000000000",
          "2024-11-22T00:00:00.000000000",
          "2024-11-25T00:00:00.000000000",
          "2024-11-26T00:00:00.000000000",
          "2024-11-27T00:00:00.000000000",
          "2024-11-29T00:00:00.000000000",
          "2024-12-02T00:00:00.000000000",
          "2024-12-03T00:00:00.000000000",
          "2024-12-04T00:00:00.000000000",
          "2024-12-05T00:00:00.000000000",
          "2024-12-06T00:00:00.000000000",
          "2024-12-09T00:00:00.000000000",
          "2024-12-10T00:00:00.000000000",
          "2024-12-11T00:00:00.000000000",
          "2024-12-12T00:00:00.000000000",
          "2024-12-13T00:00:00.000000000",
          "2024-12-16T00:00:00.000000000",
          "2024-12-17T00:00:00.000000000",
          "2024-12-18T00:00:00.000000000",
          "2024-12-19T00:00:00.000000000",
          "2024-12-20T00:00:00.000000000",
          "2024-12-23T00:00:00.000000000",
          "2024-12-24T00:00:00.000000000",
          "2024-12-26T00:00:00.000000000",
          "2024-12-27T00:00:00.000000000",
          "2024-12-30T00:00:00.000000000",
          "2024-12-31T00:00:00.000000000",
          "2025-01-02T00:00:00.000000000",
          "2025-01-03T00:00:00.000000000",
          "2025-01-06T00:00:00.000000000",
          "2025-01-07T00:00:00.000000000",
          "2025-01-08T00:00:00.000000000",
          "2025-01-10T00:00:00.000000000",
          "2025-01-13T00:00:00.000000000",
          "2025-01-14T00:00:00.000000000",
          "2025-01-15T00:00:00.000000000",
          "2025-01-16T00:00:00.000000000",
          "2025-01-17T00:00:00.000000000",
          "2025-01-21T00:00:00.000000000",
          "2025-01-22T00:00:00.000000000",
          "2025-01-23T00:00:00.000000000",
          "2025-01-24T00:00:00.000000000",
          "2025-01-27T00:00:00.000000000",
          "2025-01-28T00:00:00.000000000",
          "2025-01-29T00:00:00.000000000",
          "2025-01-30T00:00:00.000000000",
          "2025-01-31T00:00:00.000000000",
          "2025-02-03T00:00:00.000000000",
          "2025-02-04T00:00:00.000000000",
          "2025-02-05T00:00:00.000000000",
          "2025-02-06T00:00:00.000000000",
          "2025-02-07T00:00:00.000000000",
          "2025-02-10T00:00:00.000000000",
          "2025-02-11T00:00:00.000000000",
          "2025-02-12T00:00:00.000000000",
          "2025-02-13T00:00:00.000000000",
          "2025-02-14T00:00:00.000000000",
          "2025-02-18T00:00:00.000000000",
          "2025-02-19T00:00:00.000000000",
          "2025-02-20T00:00:00.000000000",
          "2025-02-21T00:00:00.000000000",
          "2025-02-24T00:00:00.000000000",
          "2025-02-25T00:00:00.000000000",
          "2025-02-26T00:00:00.000000000",
          "2025-02-27T00:00:00.000000000",
          "2025-02-28T00:00:00.000000000",
          "2025-03-03T00:00:00.000000000",
          "2025-03-04T00:00:00.000000000",
          "2025-03-05T00:00:00.000000000",
          "2025-03-06T00:00:00.000000000",
          "2025-03-07T00:00:00.000000000",
          "2025-03-10T00:00:00.000000000",
          "2025-03-11T00:00:00.000000000",
          "2025-03-12T00:00:00.000000000",
          "2025-03-13T00:00:00.000000000",
          "2025-03-14T00:00:00.000000000",
          "2025-03-17T00:00:00.000000000",
          "2025-03-18T00:00:00.000000000"
         ],
         "xaxis": "x",
         "yaxis": "y"
        },
        {
         "name": "Volume",
         "type": "bar",
         "x": [
          "2024-03-18T00:00:00.000000000",
          "2024-03-19T00:00:00.000000000",
          "2024-03-20T00:00:00.000000000",
          "2024-03-21T00:00:00.000000000",
          "2024-03-22T00:00:00.000000000",
          "2024-03-25T00:00:00.000000000",
          "2024-03-26T00:00:00.000000000",
          "2024-03-27T00:00:00.000000000",
          "2024-03-28T00:00:00.000000000",
          "2024-04-01T00:00:00.000000000",
          "2024-04-02T00:00:00.000000000",
          "2024-04-03T00:00:00.000000000",
          "2024-04-04T00:00:00.000000000",
          "2024-04-05T00:00:00.000000000",
          "2024-04-08T00:00:00.000000000",
          "2024-04-09T00:00:00.000000000",
          "2024-04-10T00:00:00.000000000",
          "2024-04-11T00:00:00.000000000",
          "2024-04-12T00:00:00.000000000",
          "2024-04-15T00:00:00.000000000",
          "2024-04-16T00:00:00.000000000",
          "2024-04-17T00:00:00.000000000",
          "2024-04-18T00:00:00.000000000",
          "2024-04-19T00:00:00.000000000",
          "2024-04-22T00:00:00.000000000",
          "2024-04-23T00:00:00.000000000",
          "2024-04-24T00:00:00.000000000",
          "2024-04-25T00:00:00.000000000",
          "2024-04-26T00:00:00.000000000",
          "2024-04-29T00:00:00.000000000",
          "2024-04-30T00:00:00.000000000",
          "2024-05-01T00:00:00.000000000",
          "2024-05-02T00:00:00.000000000",
          "2024-05-03T00:00:00.000000000",
          "2024-05-06T00:00:00.000000000",
          "2024-05-07T00:00:00.000000000",
          "2024-05-08T00:00:00.000000000",
          "2024-05-09T00:00:00.000000000",
          "2024-05-10T00:00:00.000000000",
          "2024-05-13T00:00:00.000000000",
          "2024-05-14T00:00:00.000000000",
          "2024-05-15T00:00:00.000000000",
          "2024-05-16T00:00:00.000000000",
          "2024-05-17T00:00:00.000000000",
          "2024-05-20T00:00:00.000000000",
          "2024-05-21T00:00:00.000000000",
          "2024-05-22T00:00:00.000000000",
          "2024-05-23T00:00:00.000000000",
          "2024-05-24T00:00:00.000000000",
          "2024-05-28T00:00:00.000000000",
          "2024-05-29T00:00:00.000000000",
          "2024-05-30T00:00:00.000000000",
          "2024-05-31T00:00:00.000000000",
          "2024-06-03T00:00:00.000000000",
          "2024-06-04T00:00:00.000000000",
          "2024-06-05T00:00:00.000000000",
          "2024-06-06T00:00:00.000000000",
          "2024-06-07T00:00:00.000000000",
          "2024-06-10T00:00:00.000000000",
          "2024-06-11T00:00:00.000000000",
          "2024-06-12T00:00:00.000000000",
          "2024-06-13T00:00:00.000000000",
          "2024-06-14T00:00:00.000000000",
          "2024-06-17T00:00:00.000000000",
          "2024-06-18T00:00:00.000000000",
          "2024-06-20T00:00:00.000000000",
          "2024-06-21T00:00:00.000000000",
          "2024-06-24T00:00:00.000000000",
          "2024-06-25T00:00:00.000000000",
          "2024-06-26T00:00:00.000000000",
          "2024-06-27T00:00:00.000000000",
          "2024-06-28T00:00:00.000000000",
          "2024-07-01T00:00:00.000000000",
          "2024-07-02T00:00:00.000000000",
          "2024-07-03T00:00:00.000000000",
          "2024-07-05T00:00:00.000000000",
          "2024-07-08T00:00:00.000000000",
          "2024-07-09T00:00:00.000000000",
          "2024-07-10T00:00:00.000000000",
          "2024-07-11T00:00:00.000000000",
          "2024-07-12T00:00:00.000000000",
          "2024-07-15T00:00:00.000000000",
          "2024-07-16T00:00:00.000000000",
          "2024-07-17T00:00:00.000000000",
          "2024-07-18T00:00:00.000000000",
          "2024-07-19T00:00:00.000000000",
          "2024-07-22T00:00:00.000000000",
          "2024-07-23T00:00:00.000000000",
          "2024-07-24T00:00:00.000000000",
          "2024-07-25T00:00:00.000000000",
          "2024-07-26T00:00:00.000000000",
          "2024-07-29T00:00:00.000000000",
          "2024-07-30T00:00:00.000000000",
          "2024-07-31T00:00:00.000000000",
          "2024-08-01T00:00:00.000000000",
          "2024-08-02T00:00:00.000000000",
          "2024-08-05T00:00:00.000000000",
          "2024-08-06T00:00:00.000000000",
          "2024-08-07T00:00:00.000000000",
          "2024-08-08T00:00:00.000000000",
          "2024-08-09T00:00:00.000000000",
          "2024-08-12T00:00:00.000000000",
          "2024-08-13T00:00:00.000000000",
          "2024-08-14T00:00:00.000000000",
          "2024-08-15T00:00:00.000000000",
          "2024-08-16T00:00:00.000000000",
          "2024-08-19T00:00:00.000000000",
          "2024-08-20T00:00:00.000000000",
          "2024-08-21T00:00:00.000000000",
          "2024-08-22T00:00:00.000000000",
          "2024-08-23T00:00:00.000000000",
          "2024-08-26T00:00:00.000000000",
          "2024-08-27T00:00:00.000000000",
          "2024-08-28T00:00:00.000000000",
          "2024-08-29T00:00:00.000000000",
          "2024-08-30T00:00:00.000000000",
          "2024-09-03T00:00:00.000000000",
          "2024-09-04T00:00:00.000000000",
          "2024-09-05T00:00:00.000000000",
          "2024-09-06T00:00:00.000000000",
          "2024-09-09T00:00:00.000000000",
          "2024-09-10T00:00:00.000000000",
          "2024-09-11T00:00:00.000000000",
          "2024-09-12T00:00:00.000000000",
          "2024-09-13T00:00:00.000000000",
          "2024-09-16T00:00:00.000000000",
          "2024-09-17T00:00:00.000000000",
          "2024-09-18T00:00:00.000000000",
          "2024-09-19T00:00:00.000000000",
          "2024-09-20T00:00:00.000000000",
          "2024-09-23T00:00:00.000000000",
          "2024-09-24T00:00:00.000000000",
          "2024-09-25T00:00:00.000000000",
          "2024-09-26T00:00:00.000000000",
          "2024-09-27T00:00:00.000000000",
          "2024-09-30T00:00:00.000000000",
          "2024-10-01T00:00:00.000000000",
          "2024-10-02T00:00:00.000000000",
          "2024-10-03T00:00:00.000000000",
          "2024-10-04T00:00:00.000000000",
          "2024-10-07T00:00:00.000000000",
          "2024-10-08T00:00:00.000000000",
          "2024-10-09T00:00:00.000000000",
          "2024-10-10T00:00:00.000000000",
          "2024-10-11T00:00:00.000000000",
          "2024-10-14T00:00:00.000000000",
          "2024-10-15T00:00:00.000000000",
          "2024-10-16T00:00:00.000000000",
          "2024-10-17T00:00:00.000000000",
          "2024-10-18T00:00:00.000000000",
          "2024-10-21T00:00:00.000000000",
          "2024-10-22T00:00:00.000000000",
          "2024-10-23T00:00:00.000000000",
          "2024-10-24T00:00:00.000000000",
          "2024-10-25T00:00:00.000000000",
          "2024-10-28T00:00:00.000000000",
          "2024-10-29T00:00:00.000000000",
          "2024-10-30T00:00:00.000000000",
          "2024-10-31T00:00:00.000000000",
          "2024-11-01T00:00:00.000000000",
          "2024-11-04T00:00:00.000000000",
          "2024-11-05T00:00:00.000000000",
          "2024-11-06T00:00:00.000000000",
          "2024-11-07T00:00:00.000000000",
          "2024-11-08T00:00:00.000000000",
          "2024-11-11T00:00:00.000000000",
          "2024-11-12T00:00:00.000000000",
          "2024-11-13T00:00:00.000000000",
          "2024-11-14T00:00:00.000000000",
          "2024-11-15T00:00:00.000000000",
          "2024-11-18T00:00:00.000000000",
          "2024-11-19T00:00:00.000000000",
          "2024-11-20T00:00:00.000000000",
          "2024-11-21T00:00:00.000000000",
          "2024-11-22T00:00:00.000000000",
          "2024-11-25T00:00:00.000000000",
          "2024-11-26T00:00:00.000000000",
          "2024-11-27T00:00:00.000000000",
          "2024-11-29T00:00:00.000000000",
          "2024-12-02T00:00:00.000000000",
          "2024-12-03T00:00:00.000000000",
          "2024-12-04T00:00:00.000000000",
          "2024-12-05T00:00:00.000000000",
          "2024-12-06T00:00:00.000000000",
          "2024-12-09T00:00:00.000000000",
          "2024-12-10T00:00:00.000000000",
          "2024-12-11T00:00:00.000000000",
          "2024-12-12T00:00:00.000000000",
          "2024-12-13T00:00:00.000000000",
          "2024-12-16T00:00:00.000000000",
          "2024-12-17T00:00:00.000000000",
          "2024-12-18T00:00:00.000000000",
          "2024-12-19T00:00:00.000000000",
          "2024-12-20T00:00:00.000000000",
          "2024-12-23T00:00:00.000000000",
          "2024-12-24T00:00:00.000000000",
          "2024-12-26T00:00:00.000000000",
          "2024-12-27T00:00:00.000000000",
          "2024-12-30T00:00:00.000000000",
          "2024-12-31T00:00:00.000000000",
          "2025-01-02T00:00:00.000000000",
          "2025-01-03T00:00:00.000000000",
          "2025-01-06T00:00:00.000000000",
          "2025-01-07T00:00:00.000000000",
          "2025-01-08T00:00:00.000000000",
          "2025-01-10T00:00:00.000000000",
          "2025-01-13T00:00:00.000000000",
          "2025-01-14T00:00:00.000000000",
          "2025-01-15T00:00:00.000000000",
          "2025-01-16T00:00:00.000000000",
          "2025-01-17T00:00:00.000000000",
          "2025-01-21T00:00:00.000000000",
          "2025-01-22T00:00:00.000000000",
          "2025-01-23T00:00:00.000000000",
          "2025-01-24T00:00:00.000000000",
          "2025-01-27T00:00:00.000000000",
          "2025-01-28T00:00:00.000000000",
          "2025-01-29T00:00:00.000000000",
          "2025-01-30T00:00:00.000000000",
          "2025-01-31T00:00:00.000000000",
          "2025-02-03T00:00:00.000000000",
          "2025-02-04T00:00:00.000000000",
          "2025-02-05T00:00:00.000000000",
          "2025-02-06T00:00:00.000000000",
          "2025-02-07T00:00:00.000000000",
          "2025-02-10T00:00:00.000000000",
          "2025-02-11T00:00:00.000000000",
          "2025-02-12T00:00:00.000000000",
          "2025-02-13T00:00:00.000000000",
          "2025-02-14T00:00:00.000000000",
          "2025-02-18T00:00:00.000000000",
          "2025-02-19T00:00:00.000000000",
          "2025-02-20T00:00:00.000000000",
          "2025-02-21T00:00:00.000000000",
          "2025-02-24T00:00:00.000000000",
          "2025-02-25T00:00:00.000000000",
          "2025-02-26T00:00:00.000000000",
          "2025-02-27T00:00:00.000000000",
          "2025-02-28T00:00:00.000000000",
          "2025-03-03T00:00:00.000000000",
          "2025-03-04T00:00:00.000000000",
          "2025-03-05T00:00:00.000000000",
          "2025-03-06T00:00:00.000000000",
          "2025-03-07T00:00:00.000000000",
          "2025-03-10T00:00:00.000000000",
          "2025-03-11T00:00:00.000000000",
          "2025-03-12T00:00:00.000000000",
          "2025-03-13T00:00:00.000000000",
          "2025-03-14T00:00:00.000000000",
          "2025-03-17T00:00:00.000000000",
          "2025-03-18T00:00:00.000000000"
         ],
         "xaxis": "x2",
         "y": {
          "bdata": "HH3XArDRDgHQiQ4BPMsuAbxeJQHMoeYAPLAmAbCh/QDAC0IBKGF1AZSGDAEYdgcB4AdxAQiQ+ADc7f0ANKVIAQBR+QAkPhABCOoCAaSVQgHQL+sA6MT3AGTe1QCcJjIB/B4HAcjm9QAEVCkBqFUoAkAiXgNoAyQCAO3AASDggAHMBgQB/GVbAXwj5wBA/0EBrFHeAKQntgAU9R0BWNArARzKHQH4yz8BRCwHAWB6/AA89AoBUGXgANgH9wAQyuMAmPWtAITh7gC4PuUAYIkfAdCLrAGQgjwBqKPWAGxz6AC4htkAjI3gAJhDBQFgw9sA0NEbAaR78wCAn7wAxAvpAOym7gAwov8AgGCPAxyvFQFEqSAB1BjMAKTBxgBQcl8B3Eu0AOyUvwDMDXEAqEDaAECYuADknZsApOm3AKAJ+wDMedwAkPG5ACS0wgBYJQkB0MgQAYwJ3QAcx/gAuL1qAQzZ3AHcA7oBlMJ/AcQY0gD4wtAAmM3uAMgcBgGYgiABmKYUAkSNJwI4BCcBYBPwAJC+zgA4vr0AIA7CALyQVwG0pRgBbCgBAQDnxwCkmsAA4P7oAFjOIwGA69kAHPW2ALhS0QD8EOgA6HAFAfBEGgHs3JQBjKoJAWzA1wC8dH0BZCCsAYhONwGMySEBZM1AAcxW/wAgB9gAIBi4ABSv/wCowwsBTHDDApDG7gBUeB4B3KPPAIQ8FgHMlc8AVLHWAHxDHAEoecIAjOmnAJRJrgAMJ9YAfOSyAOAVLAGU2MQA0AWnAGhPmAD0RuIAdBuYALic5gDkwccAwLStAEh5tgB8ncIA8MTCAABE3gC8RT4BhDm5AfxV9gJshPQBROxLAdAZ9wCcA78A/OycASBJ/wC8NeUAaMm+AIig1gAkKdUAqIYRAWRASwEYuh0BhODqAIgE8ABopFACaMt1AfR4RgGc7eMA+Le9AIwnjQD4Mf0AHOTvADhRFgFcXPYATD3LALh2LwFYpAsC9L97Auh8gAGAIiABGBPsAdwvcAGAuqUBULObARSGswI8e+gAyOhnADyqeACIMuAAXE26AAAL2wDwtwsB+HTEAKRKKQGQ5AIBRL3aAIitPAHM8cgAAE3QALTCxACAOc0ArFtRARD/IQGYKuwA8HznAPBHwgDYA30BgDbzADh/uwDsV94ARLsEAYwe/wDYma8B4EuaAtiiPQEEI8MBMGP9AATLxgAsDA0B1DvCANgAwgAgEC4B9DPIADgUuAAg3SkBsNsdAfTgPQHQrGgBBKuLAQiGygGQEnABaJ7UAQCZHwGgLCMBJCz6AOxcugEsuWkBpFgvATgH6ACc+xsBxOkPAUG4ngA=",
          "dtype": "i4"
         },
         "yaxis": "y2"
        }
       ],
       "layout": {
        "annotations": [
         {
          "font": {
           "size": 16
          },
          "showarrow": false,
          "text": "ロウソク足チャート",
          "x": 0.5,
          "xanchor": "center",
          "xref": "paper",
          "y": 0.9999999999999999,
          "yanchor": "bottom",
          "yref": "paper"
         },
         {
          "font": {
           "size": 16
          },
          "showarrow": false,
          "text": "出来高",
          "x": 0.5,
          "xanchor": "center",
          "xref": "paper",
          "y": 0.35,
          "yanchor": "bottom",
          "yref": "paper"
         }
        ],
        "template": {
         "data": {
          "bar": [
           {
            "error_x": {
             "color": "#2a3f5f"
            },
            "error_y": {
             "color": "#2a3f5f"
            },
            "marker": {
             "line": {
              "color": "#E5ECF6",
              "width": 0.5
             },
             "pattern": {
              "fillmode": "overlay",
              "size": 10,
              "solidity": 0.2
             }
            },
            "type": "bar"
           }
          ],
          "barpolar": [
           {
            "marker": {
             "line": {
              "color": "#E5ECF6",
              "width": 0.5
             },
             "pattern": {
              "fillmode": "overlay",
              "size": 10,
              "solidity": 0.2
             }
            },
            "type": "barpolar"
           }
          ],
          "carpet": [
           {
            "aaxis": {
             "endlinecolor": "#2a3f5f",
             "gridcolor": "white",
             "linecolor": "white",
             "minorgridcolor": "white",
             "startlinecolor": "#2a3f5f"
            },
            "baxis": {
             "endlinecolor": "#2a3f5f",
             "gridcolor": "white",
             "linecolor": "white",
             "minorgridcolor": "white",
             "startlinecolor": "#2a3f5f"
            },
            "type": "carpet"
           }
          ],
          "choropleth": [
           {
            "colorbar": {
             "outlinewidth": 0,
             "ticks": ""
            },
            "type": "choropleth"
           }
          ],
          "contour": [
           {
            "colorbar": {
             "outlinewidth": 0,
             "ticks": ""
            },
            "colorscale": [
             [
              0,
              "#0d0887"
             ],
             [
              0.1111111111111111,
              "#46039f"
             ],
             [
              0.2222222222222222,
              "#7201a8"
             ],
             [
              0.3333333333333333,
              "#9c179e"
             ],
             [
              0.4444444444444444,
              "#bd3786"
             ],
             [
              0.5555555555555556,
              "#d8576b"
             ],
             [
              0.6666666666666666,
              "#ed7953"
             ],
             [
              0.7777777777777778,
              "#fb9f3a"
             ],
             [
              0.8888888888888888,
              "#fdca26"
             ],
             [
              1,
              "#f0f921"
             ]
            ],
            "type": "contour"
           }
          ],
          "contourcarpet": [
           {
            "colorbar": {
             "outlinewidth": 0,
             "ticks": ""
            },
            "type": "contourcarpet"
           }
          ],
          "heatmap": [
           {
            "colorbar": {
             "outlinewidth": 0,
             "ticks": ""
            },
            "colorscale": [
             [
              0,
              "#0d0887"
             ],
             [
              0.1111111111111111,
              "#46039f"
             ],
             [
              0.2222222222222222,
              "#7201a8"
             ],
             [
              0.3333333333333333,
              "#9c179e"
             ],
             [
              0.4444444444444444,
              "#bd3786"
             ],
             [
              0.5555555555555556,
              "#d8576b"
             ],
             [
              0.6666666666666666,
              "#ed7953"
             ],
             [
              0.7777777777777778,
              "#fb9f3a"
             ],
             [
              0.8888888888888888,
              "#fdca26"
             ],
             [
              1,
              "#f0f921"
             ]
            ],
            "type": "heatmap"
           }
          ],
          "histogram": [
           {
            "marker": {
             "pattern": {
              "fillmode": "overlay",
              "size": 10,
              "solidity": 0.2
             }
            },
            "type": "histogram"
           }
          ],
          "histogram2d": [
           {
            "colorbar": {
             "outlinewidth": 0,
             "ticks": ""
            },
            "colorscale": [
             [
              0,
              "#0d0887"
             ],
             [
              0.1111111111111111,
              "#46039f"
             ],
             [
              0.2222222222222222,
              "#7201a8"
             ],
             [
              0.3333333333333333,
              "#9c179e"
             ],
             [
              0.4444444444444444,
              "#bd3786"
             ],
             [
              0.5555555555555556,
              "#d8576b"
             ],
             [
              0.6666666666666666,
              "#ed7953"
             ],
             [
              0.7777777777777778,
              "#fb9f3a"
             ],
             [
              0.8888888888888888,
              "#fdca26"
             ],
             [
              1,
              "#f0f921"
             ]
            ],
            "type": "histogram2d"
           }
          ],
          "histogram2dcontour": [
           {
            "colorbar": {
             "outlinewidth": 0,
             "ticks": ""
            },
            "colorscale": [
             [
              0,
              "#0d0887"
             ],
             [
              0.1111111111111111,
              "#46039f"
             ],
             [
              0.2222222222222222,
              "#7201a8"
             ],
             [
              0.3333333333333333,
              "#9c179e"
             ],
             [
              0.4444444444444444,
              "#bd3786"
             ],
             [
              0.5555555555555556,
              "#d8576b"
             ],
             [
              0.6666666666666666,
              "#ed7953"
             ],
             [
              0.7777777777777778,
              "#fb9f3a"
             ],
             [
              0.8888888888888888,
              "#fdca26"
             ],
             [
              1,
              "#f0f921"
             ]
            ],
            "type": "histogram2dcontour"
           }
          ],
          "mesh3d": [
           {
            "colorbar": {
             "outlinewidth": 0,
             "ticks": ""
            },
            "type": "mesh3d"
           }
          ],
          "parcoords": [
           {
            "line": {
             "colorbar": {
              "outlinewidth": 0,
              "ticks": ""
             }
            },
            "type": "parcoords"
           }
          ],
          "pie": [
           {
            "automargin": true,
            "type": "pie"
           }
          ],
          "scatter": [
           {
            "fillpattern": {
             "fillmode": "overlay",
             "size": 10,
             "solidity": 0.2
            },
            "type": "scatter"
           }
          ],
          "scatter3d": [
           {
            "line": {
             "colorbar": {
              "outlinewidth": 0,
              "ticks": ""
             }
            },
            "marker": {
             "colorbar": {
              "outlinewidth": 0,
              "ticks": ""
             }
            },
            "type": "scatter3d"
           }
          ],
          "scattercarpet": [
           {
            "marker": {
             "colorbar": {
              "outlinewidth": 0,
              "ticks": ""
             }
            },
            "type": "scattercarpet"
           }
          ],
          "scattergeo": [
           {
            "marker": {
             "colorbar": {
              "outlinewidth": 0,
              "ticks": ""
             }
            },
            "type": "scattergeo"
           }
          ],
          "scattergl": [
           {
            "marker": {
             "colorbar": {
              "outlinewidth": 0,
              "ticks": ""
             }
            },
            "type": "scattergl"
           }
          ],
          "scattermap": [
           {
            "marker": {
             "colorbar": {
              "outlinewidth": 0,
              "ticks": ""
             }
            },
            "type": "scattermap"
           }
          ],
          "scattermapbox": [
           {
            "marker": {
             "colorbar": {
              "outlinewidth": 0,
              "ticks": ""
             }
            },
            "type": "scattermapbox"
           }
          ],
          "scatterpolar": [
           {
            "marker": {
             "colorbar": {
              "outlinewidth": 0,
              "ticks": ""
             }
            },
            "type": "scatterpolar"
           }
          ],
          "scatterpolargl": [
           {
            "marker": {
             "colorbar": {
              "outlinewidth": 0,
              "ticks": ""
             }
            },
            "type": "scatterpolargl"
           }
          ],
          "scatterternary": [
           {
            "marker": {
             "colorbar": {
              "outlinewidth": 0,
              "ticks": ""
             }
            },
            "type": "scatterternary"
           }
          ],
          "surface": [
           {
            "colorbar": {
             "outlinewidth": 0,
             "ticks": ""
            },
            "colorscale": [
             [
              0,
              "#0d0887"
             ],
             [
              0.1111111111111111,
              "#46039f"
             ],
             [
              0.2222222222222222,
              "#7201a8"
             ],
             [
              0.3333333333333333,
              "#9c179e"
             ],
             [
              0.4444444444444444,
              "#bd3786"
             ],
             [
              0.5555555555555556,
              "#d8576b"
             ],
             [
              0.6666666666666666,
              "#ed7953"
             ],
             [
              0.7777777777777778,
              "#fb9f3a"
             ],
             [
              0.8888888888888888,
              "#fdca26"
             ],
             [
              1,
              "#f0f921"
             ]
            ],
            "type": "surface"
           }
          ],
          "table": [
           {
            "cells": {
             "fill": {
              "color": "#EBF0F8"
             },
             "line": {
              "color": "white"
             }
            },
            "header": {
             "fill": {
              "color": "#C8D4E3"
             },
             "line": {
              "color": "white"
             }
            },
            "type": "table"
           }
          ]
         },
         "layout": {
          "annotationdefaults": {
           "arrowcolor": "#2a3f5f",
           "arrowhead": 0,
           "arrowwidth": 1
          },
          "autotypenumbers": "strict",
          "coloraxis": {
           "colorbar": {
            "outlinewidth": 0,
            "ticks": ""
           }
          },
          "colorscale": {
           "diverging": [
            [
             0,
             "#8e0152"
            ],
            [
             0.1,
             "#c51b7d"
            ],
            [
             0.2,
             "#de77ae"
            ],
            [
             0.3,
             "#f1b6da"
            ],
            [
             0.4,
             "#fde0ef"
            ],
            [
             0.5,
             "#f7f7f7"
            ],
            [
             0.6,
             "#e6f5d0"
            ],
            [
             0.7,
             "#b8e186"
            ],
            [
             0.8,
             "#7fbc41"
            ],
            [
             0.9,
             "#4d9221"
            ],
            [
             1,
             "#276419"
            ]
           ],
           "sequential": [
            [
             0,
             "#0d0887"
            ],
            [
             0.1111111111111111,
             "#46039f"
            ],
            [
             0.2222222222222222,
             "#7201a8"
            ],
            [
             0.3333333333333333,
             "#9c179e"
            ],
            [
             0.4444444444444444,
             "#bd3786"
            ],
            [
             0.5555555555555556,
             "#d8576b"
            ],
            [
             0.6666666666666666,
             "#ed7953"
            ],
            [
             0.7777777777777778,
             "#fb9f3a"
            ],
            [
             0.8888888888888888,
             "#fdca26"
            ],
            [
             1,
             "#f0f921"
            ]
           ],
           "sequentialminus": [
            [
             0,
             "#0d0887"
            ],
            [
             0.1111111111111111,
             "#46039f"
            ],
            [
             0.2222222222222222,
             "#7201a8"
            ],
            [
             0.3333333333333333,
             "#9c179e"
            ],
            [
             0.4444444444444444,
             "#bd3786"
            ],
            [
             0.5555555555555556,
             "#d8576b"
            ],
            [
             0.6666666666666666,
             "#ed7953"
            ],
            [
             0.7777777777777778,
             "#fb9f3a"
            ],
            [
             0.8888888888888888,
             "#fdca26"
            ],
            [
             1,
             "#f0f921"
            ]
           ]
          },
          "colorway": [
           "#636efa",
           "#EF553B",
           "#00cc96",
           "#ab63fa",
           "#FFA15A",
           "#19d3f3",
           "#FF6692",
           "#B6E880",
           "#FF97FF",
           "#FECB52"
          ],
          "font": {
           "color": "#2a3f5f"
          },
          "geo": {
           "bgcolor": "white",
           "lakecolor": "white",
           "landcolor": "#E5ECF6",
           "showlakes": true,
           "showland": true,
           "subunitcolor": "white"
          },
          "hoverlabel": {
           "align": "left"
          },
          "hovermode": "closest",
          "mapbox": {
           "style": "light"
          },
          "paper_bgcolor": "white",
          "plot_bgcolor": "#E5ECF6",
          "polar": {
           "angularaxis": {
            "gridcolor": "white",
            "linecolor": "white",
            "ticks": ""
           },
           "bgcolor": "#E5ECF6",
           "radialaxis": {
            "gridcolor": "white",
            "linecolor": "white",
            "ticks": ""
           }
          },
          "scene": {
           "xaxis": {
            "backgroundcolor": "#E5ECF6",
            "gridcolor": "white",
            "gridwidth": 2,
            "linecolor": "white",
            "showbackground": true,
            "ticks": "",
            "zerolinecolor": "white"
           },
           "yaxis": {
            "backgroundcolor": "#E5ECF6",
            "gridcolor": "white",
            "gridwidth": 2,
            "linecolor": "white",
            "showbackground": true,
            "ticks": "",
            "zerolinecolor": "white"
           },
           "zaxis": {
            "backgroundcolor": "#E5ECF6",
            "gridcolor": "white",
            "gridwidth": 2,
            "linecolor": "white",
            "showbackground": true,
            "ticks": "",
            "zerolinecolor": "white"
           }
          },
          "shapedefaults": {
           "line": {
            "color": "#2a3f5f"
           }
          },
          "ternary": {
           "aaxis": {
            "gridcolor": "white",
            "linecolor": "white",
            "ticks": ""
           },
           "baxis": {
            "gridcolor": "white",
            "linecolor": "white",
            "ticks": ""
           },
           "bgcolor": "#E5ECF6",
           "caxis": {
            "gridcolor": "white",
            "linecolor": "white",
            "ticks": ""
           }
          },
          "title": {
           "x": 0.05
          },
          "xaxis": {
           "automargin": true,
           "gridcolor": "white",
           "linecolor": "white",
           "ticks": "",
           "title": {
            "standoff": 15
           },
           "zerolinecolor": "white",
           "zerolinewidth": 2
          },
          "yaxis": {
           "automargin": true,
           "gridcolor": "white",
           "linecolor": "white",
           "ticks": "",
           "title": {
            "standoff": 15
           },
           "zerolinecolor": "white",
           "zerolinewidth": 2
          }
         }
        },
        "title": {
         "text": "Google Stock Price"
        },
        "xaxis": {
         "anchor": "y",
         "domain": [
          0,
          1
         ],
         "matches": "x2",
         "rangeslider": {
          "visible": false
         },
         "showticklabels": false
        },
        "xaxis2": {
         "anchor": "y2",
         "domain": [
          0,
          1
         ],
         "rangeslider": {
          "visible": true
         },
         "title": {
          "text": "Date"
         }
        },
        "yaxis": {
         "anchor": "x",
         "domain": [
          0.6499999999999999,
          0.9999999999999999
         ],
         "title": {
          "text": "Price(USD)"
         }
        },
        "yaxis2": {
         "anchor": "x2",
         "domain": [
          0,
          0.35
         ]
        }
       }
      }
     },
     "metadata": {},
     "output_type": "display_data"
    }
   ],
   "source": [
    "fig = make_subplots(rows=2, cols=1, shared_xaxes=True, vertical_spacing=0.3, subplot_titles=(\"ロウソク足チャート\", \"出来高\"))\n",
    "fig.add_trace(\n",
    "    go.Candlestick( # ロウソク足チャート\n",
    "        x=data_df.index,\n",
    "        open=data_df[\"Open\"],\n",
    "        high=data_df[\"High\"],\n",
    "        low=data_df[\"Low\"],\n",
    "        close=data_df[\"Close\"],\n",
    "        name=\"Candlestick\"\n",
    "    ), row=1, col=1)\n",
    "fig.add_trace( # 出来高の棒グラフ\n",
    "    go.Bar(\n",
    "        x=data_df.index,\n",
    "        y=data_df[\"Volume\"],\n",
    "        name=\"Volume\"\n",
    "    ), row=2, col=1)\n",
    "fig.update_layout(\n",
    "    title=\"Google Stock Price\",\n",
    "    xaxis2_title=\"Date\",\n",
    "    yaxis_title=\"Price(USD)\",\n",
    "    xaxis_rangeslider_visible=False,\n",
    "    xaxis2_rangeslider_visible=True\n",
    ")\n",
    "fig.show()"
   ]
  },
  {
   "cell_type": "markdown",
   "metadata": {},
   "source": [
    "MACDとは  \n",
    "- 短期EMA(指数平滑移動平均線)と長期EMAの差。一般的には、12日EMAと26日EMAの差を用いる。\n",
    "- シグナルライン：MACDラインのEMA。一般的には、9日間のMACDラインのEMAを使用する。\n",
    "- ヒストグラム：MACDラインとシグナルラインの差。MACDヒストグラムは市場の勢いを示し、MACDラインがシグナルラインを上回る時に正の値（強気）、下回る時に負の値（弱気）をとる。\n",
    "- MACDラインがシグナルラインを超えてくるとき（MACDヒストグラムが正の値になる時）に買いシグナル。逆が売りシグナル。"
   ]
  },
  {
   "cell_type": "code",
   "execution_count": 19,
   "metadata": {},
   "outputs": [
    {
     "data": {
      "text/html": [
       "<div>\n",
       "<style scoped>\n",
       "    .dataframe tbody tr th:only-of-type {\n",
       "        vertical-align: middle;\n",
       "    }\n",
       "\n",
       "    .dataframe tbody tr th {\n",
       "        vertical-align: top;\n",
       "    }\n",
       "\n",
       "    .dataframe thead th {\n",
       "        text-align: right;\n",
       "    }\n",
       "</style>\n",
       "<table border=\"1\" class=\"dataframe\">\n",
       "  <thead>\n",
       "    <tr style=\"text-align: right;\">\n",
       "      <th>Price</th>\n",
       "      <th>Close</th>\n",
       "      <th>High</th>\n",
       "      <th>Low</th>\n",
       "      <th>Open</th>\n",
       "      <th>Volume</th>\n",
       "      <th>MACD</th>\n",
       "      <th>Signal</th>\n",
       "      <th>Hist</th>\n",
       "    </tr>\n",
       "    <tr>\n",
       "      <th>Date</th>\n",
       "      <th></th>\n",
       "      <th></th>\n",
       "      <th></th>\n",
       "      <th></th>\n",
       "      <th></th>\n",
       "      <th></th>\n",
       "      <th></th>\n",
       "      <th></th>\n",
       "    </tr>\n",
       "  </thead>\n",
       "  <tbody>\n",
       "    <tr>\n",
       "      <th>2024-03-18</th>\n",
       "      <td>147.780045</td>\n",
       "      <td>152.209064</td>\n",
       "      <td>147.441651</td>\n",
       "      <td>148.665848</td>\n",
       "      <td>47676700</td>\n",
       "      <td>0.000000</td>\n",
       "      <td>0.000000</td>\n",
       "      <td>0.000000</td>\n",
       "    </tr>\n",
       "    <tr>\n",
       "      <th>2024-03-19</th>\n",
       "      <td>147.222687</td>\n",
       "      <td>148.914670</td>\n",
       "      <td>146.316973</td>\n",
       "      <td>148.277687</td>\n",
       "      <td>17748400</td>\n",
       "      <td>-0.044462</td>\n",
       "      <td>-0.008892</td>\n",
       "      <td>-0.035569</td>\n",
       "    </tr>\n",
       "    <tr>\n",
       "      <th>2024-03-20</th>\n",
       "      <td>148.974380</td>\n",
       "      <td>149.054005</td>\n",
       "      <td>146.968880</td>\n",
       "      <td>148.088577</td>\n",
       "      <td>17730000</td>\n",
       "      <td>0.060947</td>\n",
       "      <td>0.005075</td>\n",
       "      <td>0.055871</td>\n",
       "    </tr>\n",
       "    <tr>\n",
       "      <th>2024-03-21</th>\n",
       "      <td>148.038818</td>\n",
       "      <td>150.591714</td>\n",
       "      <td>147.312249</td>\n",
       "      <td>149.611372</td>\n",
       "      <td>19843900</td>\n",
       "      <td>0.068205</td>\n",
       "      <td>0.017701</td>\n",
       "      <td>0.050504</td>\n",
       "    </tr>\n",
       "    <tr>\n",
       "      <th>2024-03-22</th>\n",
       "      <td>151.054550</td>\n",
       "      <td>151.840819</td>\n",
       "      <td>149.382462</td>\n",
       "      <td>149.531764</td>\n",
       "      <td>19226300</td>\n",
       "      <td>0.313686</td>\n",
       "      <td>0.076898</td>\n",
       "      <td>0.236788</td>\n",
       "    </tr>\n",
       "    <tr>\n",
       "      <th>...</th>\n",
       "      <td>...</td>\n",
       "      <td>...</td>\n",
       "      <td>...</td>\n",
       "      <td>...</td>\n",
       "      <td>...</td>\n",
       "      <td>...</td>\n",
       "      <td>...</td>\n",
       "      <td>...</td>\n",
       "    </tr>\n",
       "    <tr>\n",
       "      <th>2025-03-12</th>\n",
       "      <td>169.000000</td>\n",
       "      <td>169.529999</td>\n",
       "      <td>165.479996</td>\n",
       "      <td>168.470001</td>\n",
       "      <td>19880100</td>\n",
       "      <td>-5.785001</td>\n",
       "      <td>-5.312706</td>\n",
       "      <td>-0.472295</td>\n",
       "    </tr>\n",
       "    <tr>\n",
       "      <th>2025-03-13</th>\n",
       "      <td>164.729996</td>\n",
       "      <td>168.119995</td>\n",
       "      <td>164.070007</td>\n",
       "      <td>167.979996</td>\n",
       "      <td>15206200</td>\n",
       "      <td>-6.013631</td>\n",
       "      <td>-5.452891</td>\n",
       "      <td>-0.560740</td>\n",
       "    </tr>\n",
       "    <tr>\n",
       "      <th>2025-03-14</th>\n",
       "      <td>167.619995</td>\n",
       "      <td>168.250000</td>\n",
       "      <td>164.509995</td>\n",
       "      <td>165.315002</td>\n",
       "      <td>18611100</td>\n",
       "      <td>-5.893684</td>\n",
       "      <td>-5.541050</td>\n",
       "      <td>-0.352634</td>\n",
       "    </tr>\n",
       "    <tr>\n",
       "      <th>2025-03-17</th>\n",
       "      <td>166.570007</td>\n",
       "      <td>168.460007</td>\n",
       "      <td>165.809998</td>\n",
       "      <td>167.324997</td>\n",
       "      <td>17820100</td>\n",
       "      <td>-5.816303</td>\n",
       "      <td>-5.596100</td>\n",
       "      <td>-0.220203</td>\n",
       "    </tr>\n",
       "    <tr>\n",
       "      <th>2025-03-18</th>\n",
       "      <td>160.289993</td>\n",
       "      <td>166.440002</td>\n",
       "      <td>158.800003</td>\n",
       "      <td>165.960007</td>\n",
       "      <td>10401857</td>\n",
       "      <td>-6.190365</td>\n",
       "      <td>-5.714953</td>\n",
       "      <td>-0.475412</td>\n",
       "    </tr>\n",
       "  </tbody>\n",
       "</table>\n",
       "<p>251 rows × 8 columns</p>\n",
       "</div>"
      ],
      "text/plain": [
       "Price            Close        High         Low        Open    Volume  \\\n",
       "Date                                                                   \n",
       "2024-03-18  147.780045  152.209064  147.441651  148.665848  47676700   \n",
       "2024-03-19  147.222687  148.914670  146.316973  148.277687  17748400   \n",
       "2024-03-20  148.974380  149.054005  146.968880  148.088577  17730000   \n",
       "2024-03-21  148.038818  150.591714  147.312249  149.611372  19843900   \n",
       "2024-03-22  151.054550  151.840819  149.382462  149.531764  19226300   \n",
       "...                ...         ...         ...         ...       ...   \n",
       "2025-03-12  169.000000  169.529999  165.479996  168.470001  19880100   \n",
       "2025-03-13  164.729996  168.119995  164.070007  167.979996  15206200   \n",
       "2025-03-14  167.619995  168.250000  164.509995  165.315002  18611100   \n",
       "2025-03-17  166.570007  168.460007  165.809998  167.324997  17820100   \n",
       "2025-03-18  160.289993  166.440002  158.800003  165.960007  10401857   \n",
       "\n",
       "Price           MACD    Signal      Hist  \n",
       "Date                                      \n",
       "2024-03-18  0.000000  0.000000  0.000000  \n",
       "2024-03-19 -0.044462 -0.008892 -0.035569  \n",
       "2024-03-20  0.060947  0.005075  0.055871  \n",
       "2024-03-21  0.068205  0.017701  0.050504  \n",
       "2024-03-22  0.313686  0.076898  0.236788  \n",
       "...              ...       ...       ...  \n",
       "2025-03-12 -5.785001 -5.312706 -0.472295  \n",
       "2025-03-13 -6.013631 -5.452891 -0.560740  \n",
       "2025-03-14 -5.893684 -5.541050 -0.352634  \n",
       "2025-03-17 -5.816303 -5.596100 -0.220203  \n",
       "2025-03-18 -6.190365 -5.714953 -0.475412  \n",
       "\n",
       "[251 rows x 8 columns]"
      ]
     },
     "execution_count": 19,
     "metadata": {},
     "output_type": "execute_result"
    }
   ],
   "source": [
    "short_ema = data_df[\"Close\"].ewm(span=12, adjust=False).mean()\n",
    "long_ema = data_df[\"Close\"].ewm(span=26, adjust=False).mean()\n",
    "\n",
    "macd = short_ema - long_ema\n",
    "signal = macd.ewm(span=9, adjust=False).mean()\n",
    "hist = macd - signal\n",
    "\n",
    "data_df[\"MACD\"] = macd\n",
    "data_df[\"Signal\"] = signal\n",
    "data_df[\"Hist\"] = hist\n",
    "\n",
    "data_df"
   ]
  },
  {
   "cell_type": "code",
   "execution_count": 20,
   "metadata": {},
   "outputs": [
    {
     "data": {
      "application/vnd.plotly.v1+json": {
       "config": {
        "plotlyServerURL": "https://plot.ly"
       },
       "data": [
        {
         "close": {
          "bdata": "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",
          "dtype": "f8"
         },
         "high": {
          "bdata": "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",
          "dtype": "f8"
         },
         "low": {
          "bdata": "aDRGASJuYkBrfXykJEpiQFsk0RABX2JADTQl8f1pYkDLOcEgPaxiQGZfjkAng2JAztvEPy3KYkDCa2kmg61iQJ1II0q702JAm1JuTOzdYkDMjxfykRdjQFSmcQ35LGNAoF0pkT/lYkAem0EozctiQPAIgEdzKGNAdi9+rdl8Y0CgleVB1m5jQOrF7rHvpWNAPcfZaEa7Y0DD8J9zPm1jQE/k0O81SmNA4IxORcRsY0AVeK3lJ29jQNIBGgbnJWNAQ/0Fj6NdY0CtuNHfDKdjQPCsmCxIwmNA0PSB/YcBY0CO6kuv8VJlQOlaltC3yGRAw1oTSC93ZEB9Aumf7INkQAE4d/gVnWRAKgv4vHiGZEBRQUhLJ+NkQAryyPRaJmVAYb6K4/o2ZUBM/XMYICRlQLBXCmnK42RA08COf1CfZECXZDFQuzNlQLB/e1ECZ2VAOQyaSlinZUA7+T+19sRlQGuocDF3DGZAvJVHHiwPZkB5xi3dSv5lQCyV/RTztmVATZBxg/jLZUCbOCz+QdtlQOEZVwa77WVA4oByXjqNZUB2/d63P0VlQGLhedNidGVAiVXqwuiMZUBBJq491s5lQKvLPOb8C2ZAHZ3W7cLeZUBrVAGkLLhlQKbVeg/52WVA+CiKuZUkZkCiFeSY3wBmQDjauCAc52VA0dsh8HP7ZUBiEiBatt9lQD50xwx/+mVAxj3NDIMtZkAoTykutHJmQNFisIuajmZAUnxivZfqZkAOrqU+JRlnQMyhkYlj1WZAvVha42rCZkDGiSeI8MxmQEkqnLMSF2dAh7tVg8VUZ0Ce2dLIipRnQDbBZqmOsWdATWyIOv69Z0B3MEM11ERnQEiVD4clL2dAauULYU46Z0BX9jGmnw5nQO69HTcGn2ZAi/4DwksyZkDulOVMBUdmQNwgH8vzp2ZAmSb8i4zVZkD+z7j4WJ5lQHHNNro5DmVAnEu2l6uoZEBUMm2+liNlQKXflI1XMGVAojvL9FtjZUDvD6ELxzxlQLEuNflouWRAT282qECBY0Ahbot1CbJjQISSqpZQ9WNAIuIhu2MuZEB1r/7aUAtkQCfmVxzbXmRAbxuziMGFZEAGfEM5rd5jQHznZwosHWRAkrMatN5PZEBdKY0m2K9kQD17UU3KAWVADC2pWSa/ZECgNiW/C45kQP3HZk4iomRA9p6AvC23ZEC8NXOUE7JkQAtinAs/VmRA26uU+tssZEA3gIpgZFpkQLiQ4aZEqWNAZ/31WgmcY0B/wc5Plp5jQNqstbiB7GJAolHviqJ7YkA1EBlvg6ZiQKLoNUeZi2JAim73rtkkY0AY9j1GLnhjQDmvKmkSqGNAf0lpjYrhY0DUMFHiheljQOK11jnmRGRAyowkJuhZZECZ5kdbkFJkQFNHF9AwNWRAybOM3/lMZECdReTCH2RkQGbC3wWpbmRAmoe9aoWIZEBZXfPbv7BkQJWh65Xsu2RAoMn89tOfZEAfEHnAl9JkQG6orPU8eGRAkrf3GPx9ZEBNSBvzIhhkQA7+9iK9KGRAyk3eTzJEZEBIMqux/YxkQFytOO6JtWRAqpqqVumaZECMl22a5n9kQFGzHnQIjGRAzyScTNN9ZEAIDayaeolkQO79+79eaGRA9sr4OdFMZEDGnWaaW5tkQAWetMo8rWRAUh+sfd4IZUBv/k0YE+tlQIUm28pihWVAvMPzoow9ZUDZYLB4NSNlQHtjyPZ2P2VAkD9GzZDUZUBjiX9pfE9mQEMdaYQyZWZA6oF2MZtyZkAKqEaziJJmQGKDUsHBdmZAhHmEiyz0ZUCH4JzKSotlQCL6QGHFwGVALUqh4v3WZUAqxscQ091lQLQr/ZPpnWRA3W64Ha+qZED/yUn/o+BkQLtDsgB0IWVAhjNfoh0pZUBn1/MavgtlQEx8LMRFPGVA0EXEG8qDZUBwk1y7c4tlQFVJFzSus2VAWRQBi/6kZUAcDiWZaeZlQEt02rvJzmZAIpmBiolBZ0CymlDj6yFoQJbXaN5a4WdAi9YRoXM8aECdTzDi6o5oQAQsPTwRomdAnMqJLb2pZ0C1NoGPDUVnQGUZc4Uu7WdABW2lXDpfaEDq/lkXtXRoQBbkNwcd+GdAnilfmJbEZ0B82nAEqKtnQH2GISbZj2dA0+nidzvkZ0Cq2qQo0VpoQKYKle3xdmhAei3oyfEwaEB6K7giOexnQC4KMvc/jmdAwCXwBJOtZ0DqV3kmhSNoQKtyhUaGQmhArWLOwc5iaEA1m3BF0eZoQCpS0Vwl32hAo9WXuhKTaEApIrgZ0PFoQFBkkvlhD2hA3KS5k4EMaEA1nwLt+F5oQBX1sRDX52hAelOolCVraUDt39XCxi1pQIaTp6nhgGlAmrZCWjS2Z0BDbA1KvshnQMXRmaR1HGdAu+sQILBsZ0Ctl5e6yDtnQPwOqid57WZAGTWid20VZ0C2S6w1vjxnQMQGLvLf62ZAC6APsj4pZ0AnRVpkegxnQKAL7XGQnWZAY83Rw5KVZkAz+uL3MxJmQFC3DvmOrGVAxWAK5eExZUDP6mgUWQZlQJtOLCJg7mRAflmjwy3rZEAvaOcYiVdlQF0DxV35iWVAM8uuQLqBZUAAAACAFLJkQAAAACCuZ2RAAAAAIFyvZEAAAACAPYJkQAAAAOBRkGRAAAAAgOu5ZEAAAACgmdljQA==",
          "dtype": "f8"
         },
         "name": "Candlestick",
         "open": {
          "bdata": "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",
          "dtype": "f8"
         },
         "type": "candlestick",
         "x": [
          "2024-03-18T00:00:00.000000000",
          "2024-03-19T00:00:00.000000000",
          "2024-03-20T00:00:00.000000000",
          "2024-03-21T00:00:00.000000000",
          "2024-03-22T00:00:00.000000000",
          "2024-03-25T00:00:00.000000000",
          "2024-03-26T00:00:00.000000000",
          "2024-03-27T00:00:00.000000000",
          "2024-03-28T00:00:00.000000000",
          "2024-04-01T00:00:00.000000000",
          "2024-04-02T00:00:00.000000000",
          "2024-04-03T00:00:00.000000000",
          "2024-04-04T00:00:00.000000000",
          "2024-04-05T00:00:00.000000000",
          "2024-04-08T00:00:00.000000000",
          "2024-04-09T00:00:00.000000000",
          "2024-04-10T00:00:00.000000000",
          "2024-04-11T00:00:00.000000000",
          "2024-04-12T00:00:00.000000000",
          "2024-04-15T00:00:00.000000000",
          "2024-04-16T00:00:00.000000000",
          "2024-04-17T00:00:00.000000000",
          "2024-04-18T00:00:00.000000000",
          "2024-04-19T00:00:00.000000000",
          "2024-04-22T00:00:00.000000000",
          "2024-04-23T00:00:00.000000000",
          "2024-04-24T00:00:00.000000000",
          "2024-04-25T00:00:00.000000000",
          "2024-04-26T00:00:00.000000000",
          "2024-04-29T00:00:00.000000000",
          "2024-04-30T00:00:00.000000000",
          "2024-05-01T00:00:00.000000000",
          "2024-05-02T00:00:00.000000000",
          "2024-05-03T00:00:00.000000000",
          "2024-05-06T00:00:00.000000000",
          "2024-05-07T00:00:00.000000000",
          "2024-05-08T00:00:00.000000000",
          "2024-05-09T00:00:00.000000000",
          "2024-05-10T00:00:00.000000000",
          "2024-05-13T00:00:00.000000000",
          "2024-05-14T00:00:00.000000000",
          "2024-05-15T00:00:00.000000000",
          "2024-05-16T00:00:00.000000000",
          "2024-05-17T00:00:00.000000000",
          "2024-05-20T00:00:00.000000000",
          "2024-05-21T00:00:00.000000000",
          "2024-05-22T00:00:00.000000000",
          "2024-05-23T00:00:00.000000000",
          "2024-05-24T00:00:00.000000000",
          "2024-05-28T00:00:00.000000000",
          "2024-05-29T00:00:00.000000000",
          "2024-05-30T00:00:00.000000000",
          "2024-05-31T00:00:00.000000000",
          "2024-06-03T00:00:00.000000000",
          "2024-06-04T00:00:00.000000000",
          "2024-06-05T00:00:00.000000000",
          "2024-06-06T00:00:00.000000000",
          "2024-06-07T00:00:00.000000000",
          "2024-06-10T00:00:00.000000000",
          "2024-06-11T00:00:00.000000000",
          "2024-06-12T00:00:00.000000000",
          "2024-06-13T00:00:00.000000000",
          "2024-06-14T00:00:00.000000000",
          "2024-06-17T00:00:00.000000000",
          "2024-06-18T00:00:00.000000000",
          "2024-06-20T00:00:00.000000000",
          "2024-06-21T00:00:00.000000000",
          "2024-06-24T00:00:00.000000000",
          "2024-06-25T00:00:00.000000000",
          "2024-06-26T00:00:00.000000000",
          "2024-06-27T00:00:00.000000000",
          "2024-06-28T00:00:00.000000000",
          "2024-07-01T00:00:00.000000000",
          "2024-07-02T00:00:00.000000000",
          "2024-07-03T00:00:00.000000000",
          "2024-07-05T00:00:00.000000000",
          "2024-07-08T00:00:00.000000000",
          "2024-07-09T00:00:00.000000000",
          "2024-07-10T00:00:00.000000000",
          "2024-07-11T00:00:00.000000000",
          "2024-07-12T00:00:00.000000000",
          "2024-07-15T00:00:00.000000000",
          "2024-07-16T00:00:00.000000000",
          "2024-07-17T00:00:00.000000000",
          "2024-07-18T00:00:00.000000000",
          "2024-07-19T00:00:00.000000000",
          "2024-07-22T00:00:00.000000000",
          "2024-07-23T00:00:00.000000000",
          "2024-07-24T00:00:00.000000000",
          "2024-07-25T00:00:00.000000000",
          "2024-07-26T00:00:00.000000000",
          "2024-07-29T00:00:00.000000000",
          "2024-07-30T00:00:00.000000000",
          "2024-07-31T00:00:00.000000000",
          "2024-08-01T00:00:00.000000000",
          "2024-08-02T00:00:00.000000000",
          "2024-08-05T00:00:00.000000000",
          "2024-08-06T00:00:00.000000000",
          "2024-08-07T00:00:00.000000000",
          "2024-08-08T00:00:00.000000000",
          "2024-08-09T00:00:00.000000000",
          "2024-08-12T00:00:00.000000000",
          "2024-08-13T00:00:00.000000000",
          "2024-08-14T00:00:00.000000000",
          "2024-08-15T00:00:00.000000000",
          "2024-08-16T00:00:00.000000000",
          "2024-08-19T00:00:00.000000000",
          "2024-08-20T00:00:00.000000000",
          "2024-08-21T00:00:00.000000000",
          "2024-08-22T00:00:00.000000000",
          "2024-08-23T00:00:00.000000000",
          "2024-08-26T00:00:00.000000000",
          "2024-08-27T00:00:00.000000000",
          "2024-08-28T00:00:00.000000000",
          "2024-08-29T00:00:00.000000000",
          "2024-08-30T00:00:00.000000000",
          "2024-09-03T00:00:00.000000000",
          "2024-09-04T00:00:00.000000000",
          "2024-09-05T00:00:00.000000000",
          "2024-09-06T00:00:00.000000000",
          "2024-09-09T00:00:00.000000000",
          "2024-09-10T00:00:00.000000000",
          "2024-09-11T00:00:00.000000000",
          "2024-09-12T00:00:00.000000000",
          "2024-09-13T00:00:00.000000000",
          "2024-09-16T00:00:00.000000000",
          "2024-09-17T00:00:00.000000000",
          "2024-09-18T00:00:00.000000000",
          "2024-09-19T00:00:00.000000000",
          "2024-09-20T00:00:00.000000000",
          "2024-09-23T00:00:00.000000000",
          "2024-09-24T00:00:00.000000000",
          "2024-09-25T00:00:00.000000000",
          "2024-09-26T00:00:00.000000000",
          "2024-09-27T00:00:00.000000000",
          "2024-09-30T00:00:00.000000000",
          "2024-10-01T00:00:00.000000000",
          "2024-10-02T00:00:00.000000000",
          "2024-10-03T00:00:00.000000000",
          "2024-10-04T00:00:00.000000000",
          "2024-10-07T00:00:00.000000000",
          "2024-10-08T00:00:00.000000000",
          "2024-10-09T00:00:00.000000000",
          "2024-10-10T00:00:00.000000000",
          "2024-10-11T00:00:00.000000000",
          "2024-10-14T00:00:00.000000000",
          "2024-10-15T00:00:00.000000000",
          "2024-10-16T00:00:00.000000000",
          "2024-10-17T00:00:00.000000000",
          "2024-10-18T00:00:00.000000000",
          "2024-10-21T00:00:00.000000000",
          "2024-10-22T00:00:00.000000000",
          "2024-10-23T00:00:00.000000000",
          "2024-10-24T00:00:00.000000000",
          "2024-10-25T00:00:00.000000000",
          "2024-10-28T00:00:00.000000000",
          "2024-10-29T00:00:00.000000000",
          "2024-10-30T00:00:00.000000000",
          "2024-10-31T00:00:00.000000000",
          "2024-11-01T00:00:00.000000000",
          "2024-11-04T00:00:00.000000000",
          "2024-11-05T00:00:00.000000000",
          "2024-11-06T00:00:00.000000000",
          "2024-11-07T00:00:00.000000000",
          "2024-11-08T00:00:00.000000000",
          "2024-11-11T00:00:00.000000000",
          "2024-11-12T00:00:00.000000000",
          "2024-11-13T00:00:00.000000000",
          "2024-11-14T00:00:00.000000000",
          "2024-11-15T00:00:00.000000000",
          "2024-11-18T00:00:00.000000000",
          "2024-11-19T00:00:00.000000000",
          "2024-11-20T00:00:00.000000000",
          "2024-11-21T00:00:00.000000000",
          "2024-11-22T00:00:00.000000000",
          "2024-11-25T00:00:00.000000000",
          "2024-11-26T00:00:00.000000000",
          "2024-11-27T00:00:00.000000000",
          "2024-11-29T00:00:00.000000000",
          "2024-12-02T00:00:00.000000000",
          "2024-12-03T00:00:00.000000000",
          "2024-12-04T00:00:00.000000000",
          "2024-12-05T00:00:00.000000000",
          "2024-12-06T00:00:00.000000000",
          "2024-12-09T00:00:00.000000000",
          "2024-12-10T00:00:00.000000000",
          "2024-12-11T00:00:00.000000000",
          "2024-12-12T00:00:00.000000000",
          "2024-12-13T00:00:00.000000000",
          "2024-12-16T00:00:00.000000000",
          "2024-12-17T00:00:00.000000000",
          "2024-12-18T00:00:00.000000000",
          "2024-12-19T00:00:00.000000000",
          "2024-12-20T00:00:00.000000000",
          "2024-12-23T00:00:00.000000000",
          "2024-12-24T00:00:00.000000000",
          "2024-12-26T00:00:00.000000000",
          "2024-12-27T00:00:00.000000000",
          "2024-12-30T00:00:00.000000000",
          "2024-12-31T00:00:00.000000000",
          "2025-01-02T00:00:00.000000000",
          "2025-01-03T00:00:00.000000000",
          "2025-01-06T00:00:00.000000000",
          "2025-01-07T00:00:00.000000000",
          "2025-01-08T00:00:00.000000000",
          "2025-01-10T00:00:00.000000000",
          "2025-01-13T00:00:00.000000000",
          "2025-01-14T00:00:00.000000000",
          "2025-01-15T00:00:00.000000000",
          "2025-01-16T00:00:00.000000000",
          "2025-01-17T00:00:00.000000000",
          "2025-01-21T00:00:00.000000000",
          "2025-01-22T00:00:00.000000000",
          "2025-01-23T00:00:00.000000000",
          "2025-01-24T00:00:00.000000000",
          "2025-01-27T00:00:00.000000000",
          "2025-01-28T00:00:00.000000000",
          "2025-01-29T00:00:00.000000000",
          "2025-01-30T00:00:00.000000000",
          "2025-01-31T00:00:00.000000000",
          "2025-02-03T00:00:00.000000000",
          "2025-02-04T00:00:00.000000000",
          "2025-02-05T00:00:00.000000000",
          "2025-02-06T00:00:00.000000000",
          "2025-02-07T00:00:00.000000000",
          "2025-02-10T00:00:00.000000000",
          "2025-02-11T00:00:00.000000000",
          "2025-02-12T00:00:00.000000000",
          "2025-02-13T00:00:00.000000000",
          "2025-02-14T00:00:00.000000000",
          "2025-02-18T00:00:00.000000000",
          "2025-02-19T00:00:00.000000000",
          "2025-02-20T00:00:00.000000000",
          "2025-02-21T00:00:00.000000000",
          "2025-02-24T00:00:00.000000000",
          "2025-02-25T00:00:00.000000000",
          "2025-02-26T00:00:00.000000000",
          "2025-02-27T00:00:00.000000000",
          "2025-02-28T00:00:00.000000000",
          "2025-03-03T00:00:00.000000000",
          "2025-03-04T00:00:00.000000000",
          "2025-03-05T00:00:00.000000000",
          "2025-03-06T00:00:00.000000000",
          "2025-03-07T00:00:00.000000000",
          "2025-03-10T00:00:00.000000000",
          "2025-03-11T00:00:00.000000000",
          "2025-03-12T00:00:00.000000000",
          "2025-03-13T00:00:00.000000000",
          "2025-03-14T00:00:00.000000000",
          "2025-03-17T00:00:00.000000000",
          "2025-03-18T00:00:00.000000000"
         ],
         "xaxis": "x",
         "yaxis": "y"
        },
        {
         "mode": "lines",
         "name": "MACD",
         "type": "scatter",
         "x": [
          "2024-03-18T00:00:00.000000000",
          "2024-03-19T00:00:00.000000000",
          "2024-03-20T00:00:00.000000000",
          "2024-03-21T00:00:00.000000000",
          "2024-03-22T00:00:00.000000000",
          "2024-03-25T00:00:00.000000000",
          "2024-03-26T00:00:00.000000000",
          "2024-03-27T00:00:00.000000000",
          "2024-03-28T00:00:00.000000000",
          "2024-04-01T00:00:00.000000000",
          "2024-04-02T00:00:00.000000000",
          "2024-04-03T00:00:00.000000000",
          "2024-04-04T00:00:00.000000000",
          "2024-04-05T00:00:00.000000000",
          "2024-04-08T00:00:00.000000000",
          "2024-04-09T00:00:00.000000000",
          "2024-04-10T00:00:00.000000000",
          "2024-04-11T00:00:00.000000000",
          "2024-04-12T00:00:00.000000000",
          "2024-04-15T00:00:00.000000000",
          "2024-04-16T00:00:00.000000000",
          "2024-04-17T00:00:00.000000000",
          "2024-04-18T00:00:00.000000000",
          "2024-04-19T00:00:00.000000000",
          "2024-04-22T00:00:00.000000000",
          "2024-04-23T00:00:00.000000000",
          "2024-04-24T00:00:00.000000000",
          "2024-04-25T00:00:00.000000000",
          "2024-04-26T00:00:00.000000000",
          "2024-04-29T00:00:00.000000000",
          "2024-04-30T00:00:00.000000000",
          "2024-05-01T00:00:00.000000000",
          "2024-05-02T00:00:00.000000000",
          "2024-05-03T00:00:00.000000000",
          "2024-05-06T00:00:00.000000000",
          "2024-05-07T00:00:00.000000000",
          "2024-05-08T00:00:00.000000000",
          "2024-05-09T00:00:00.000000000",
          "2024-05-10T00:00:00.000000000",
          "2024-05-13T00:00:00.000000000",
          "2024-05-14T00:00:00.000000000",
          "2024-05-15T00:00:00.000000000",
          "2024-05-16T00:00:00.000000000",
          "2024-05-17T00:00:00.000000000",
          "2024-05-20T00:00:00.000000000",
          "2024-05-21T00:00:00.000000000",
          "2024-05-22T00:00:00.000000000",
          "2024-05-23T00:00:00.000000000",
          "2024-05-24T00:00:00.000000000",
          "2024-05-28T00:00:00.000000000",
          "2024-05-29T00:00:00.000000000",
          "2024-05-30T00:00:00.000000000",
          "2024-05-31T00:00:00.000000000",
          "2024-06-03T00:00:00.000000000",
          "2024-06-04T00:00:00.000000000",
          "2024-06-05T00:00:00.000000000",
          "2024-06-06T00:00:00.000000000",
          "2024-06-07T00:00:00.000000000",
          "2024-06-10T00:00:00.000000000",
          "2024-06-11T00:00:00.000000000",
          "2024-06-12T00:00:00.000000000",
          "2024-06-13T00:00:00.000000000",
          "2024-06-14T00:00:00.000000000",
          "2024-06-17T00:00:00.000000000",
          "2024-06-18T00:00:00.000000000",
          "2024-06-20T00:00:00.000000000",
          "2024-06-21T00:00:00.000000000",
          "2024-06-24T00:00:00.000000000",
          "2024-06-25T00:00:00.000000000",
          "2024-06-26T00:00:00.000000000",
          "2024-06-27T00:00:00.000000000",
          "2024-06-28T00:00:00.000000000",
          "2024-07-01T00:00:00.000000000",
          "2024-07-02T00:00:00.000000000",
          "2024-07-03T00:00:00.000000000",
          "2024-07-05T00:00:00.000000000",
          "2024-07-08T00:00:00.000000000",
          "2024-07-09T00:00:00.000000000",
          "2024-07-10T00:00:00.000000000",
          "2024-07-11T00:00:00.000000000",
          "2024-07-12T00:00:00.000000000",
          "2024-07-15T00:00:00.000000000",
          "2024-07-16T00:00:00.000000000",
          "2024-07-17T00:00:00.000000000",
          "2024-07-18T00:00:00.000000000",
          "2024-07-19T00:00:00.000000000",
          "2024-07-22T00:00:00.000000000",
          "2024-07-23T00:00:00.000000000",
          "2024-07-24T00:00:00.000000000",
          "2024-07-25T00:00:00.000000000",
          "2024-07-26T00:00:00.000000000",
          "2024-07-29T00:00:00.000000000",
          "2024-07-30T00:00:00.000000000",
          "2024-07-31T00:00:00.000000000",
          "2024-08-01T00:00:00.000000000",
          "2024-08-02T00:00:00.000000000",
          "2024-08-05T00:00:00.000000000",
          "2024-08-06T00:00:00.000000000",
          "2024-08-07T00:00:00.000000000",
          "2024-08-08T00:00:00.000000000",
          "2024-08-09T00:00:00.000000000",
          "2024-08-12T00:00:00.000000000",
          "2024-08-13T00:00:00.000000000",
          "2024-08-14T00:00:00.000000000",
          "2024-08-15T00:00:00.000000000",
          "2024-08-16T00:00:00.000000000",
          "2024-08-19T00:00:00.000000000",
          "2024-08-20T00:00:00.000000000",
          "2024-08-21T00:00:00.000000000",
          "2024-08-22T00:00:00.000000000",
          "2024-08-23T00:00:00.000000000",
          "2024-08-26T00:00:00.000000000",
          "2024-08-27T00:00:00.000000000",
          "2024-08-28T00:00:00.000000000",
          "2024-08-29T00:00:00.000000000",
          "2024-08-30T00:00:00.000000000",
          "2024-09-03T00:00:00.000000000",
          "2024-09-04T00:00:00.000000000",
          "2024-09-05T00:00:00.000000000",
          "2024-09-06T00:00:00.000000000",
          "2024-09-09T00:00:00.000000000",
          "2024-09-10T00:00:00.000000000",
          "2024-09-11T00:00:00.000000000",
          "2024-09-12T00:00:00.000000000",
          "2024-09-13T00:00:00.000000000",
          "2024-09-16T00:00:00.000000000",
          "2024-09-17T00:00:00.000000000",
          "2024-09-18T00:00:00.000000000",
          "2024-09-19T00:00:00.000000000",
          "2024-09-20T00:00:00.000000000",
          "2024-09-23T00:00:00.000000000",
          "2024-09-24T00:00:00.000000000",
          "2024-09-25T00:00:00.000000000",
          "2024-09-26T00:00:00.000000000",
          "2024-09-27T00:00:00.000000000",
          "2024-09-30T00:00:00.000000000",
          "2024-10-01T00:00:00.000000000",
          "2024-10-02T00:00:00.000000000",
          "2024-10-03T00:00:00.000000000",
          "2024-10-04T00:00:00.000000000",
          "2024-10-07T00:00:00.000000000",
          "2024-10-08T00:00:00.000000000",
          "2024-10-09T00:00:00.000000000",
          "2024-10-10T00:00:00.000000000",
          "2024-10-11T00:00:00.000000000",
          "2024-10-14T00:00:00.000000000",
          "2024-10-15T00:00:00.000000000",
          "2024-10-16T00:00:00.000000000",
          "2024-10-17T00:00:00.000000000",
          "2024-10-18T00:00:00.000000000",
          "2024-10-21T00:00:00.000000000",
          "2024-10-22T00:00:00.000000000",
          "2024-10-23T00:00:00.000000000",
          "2024-10-24T00:00:00.000000000",
          "2024-10-25T00:00:00.000000000",
          "2024-10-28T00:00:00.000000000",
          "2024-10-29T00:00:00.000000000",
          "2024-10-30T00:00:00.000000000",
          "2024-10-31T00:00:00.000000000",
          "2024-11-01T00:00:00.000000000",
          "2024-11-04T00:00:00.000000000",
          "2024-11-05T00:00:00.000000000",
          "2024-11-06T00:00:00.000000000",
          "2024-11-07T00:00:00.000000000",
          "2024-11-08T00:00:00.000000000",
          "2024-11-11T00:00:00.000000000",
          "2024-11-12T00:00:00.000000000",
          "2024-11-13T00:00:00.000000000",
          "2024-11-14T00:00:00.000000000",
          "2024-11-15T00:00:00.000000000",
          "2024-11-18T00:00:00.000000000",
          "2024-11-19T00:00:00.000000000",
          "2024-11-20T00:00:00.000000000",
          "2024-11-21T00:00:00.000000000",
          "2024-11-22T00:00:00.000000000",
          "2024-11-25T00:00:00.000000000",
          "2024-11-26T00:00:00.000000000",
          "2024-11-27T00:00:00.000000000",
          "2024-11-29T00:00:00.000000000",
          "2024-12-02T00:00:00.000000000",
          "2024-12-03T00:00:00.000000000",
          "2024-12-04T00:00:00.000000000",
          "2024-12-05T00:00:00.000000000",
          "2024-12-06T00:00:00.000000000",
          "2024-12-09T00:00:00.000000000",
          "2024-12-10T00:00:00.000000000",
          "2024-12-11T00:00:00.000000000",
          "2024-12-12T00:00:00.000000000",
          "2024-12-13T00:00:00.000000000",
          "2024-12-16T00:00:00.000000000",
          "2024-12-17T00:00:00.000000000",
          "2024-12-18T00:00:00.000000000",
          "2024-12-19T00:00:00.000000000",
          "2024-12-20T00:00:00.000000000",
          "2024-12-23T00:00:00.000000000",
          "2024-12-24T00:00:00.000000000",
          "2024-12-26T00:00:00.000000000",
          "2024-12-27T00:00:00.000000000",
          "2024-12-30T00:00:00.000000000",
          "2024-12-31T00:00:00.000000000",
          "2025-01-02T00:00:00.000000000",
          "2025-01-03T00:00:00.000000000",
          "2025-01-06T00:00:00.000000000",
          "2025-01-07T00:00:00.000000000",
          "2025-01-08T00:00:00.000000000",
          "2025-01-10T00:00:00.000000000",
          "2025-01-13T00:00:00.000000000",
          "2025-01-14T00:00:00.000000000",
          "2025-01-15T00:00:00.000000000",
          "2025-01-16T00:00:00.000000000",
          "2025-01-17T00:00:00.000000000",
          "2025-01-21T00:00:00.000000000",
          "2025-01-22T00:00:00.000000000",
          "2025-01-23T00:00:00.000000000",
          "2025-01-24T00:00:00.000000000",
          "2025-01-27T00:00:00.000000000",
          "2025-01-28T00:00:00.000000000",
          "2025-01-29T00:00:00.000000000",
          "2025-01-30T00:00:00.000000000",
          "2025-01-31T00:00:00.000000000",
          "2025-02-03T00:00:00.000000000",
          "2025-02-04T00:00:00.000000000",
          "2025-02-05T00:00:00.000000000",
          "2025-02-06T00:00:00.000000000",
          "2025-02-07T00:00:00.000000000",
          "2025-02-10T00:00:00.000000000",
          "2025-02-11T00:00:00.000000000",
          "2025-02-12T00:00:00.000000000",
          "2025-02-13T00:00:00.000000000",
          "2025-02-14T00:00:00.000000000",
          "2025-02-18T00:00:00.000000000",
          "2025-02-19T00:00:00.000000000",
          "2025-02-20T00:00:00.000000000",
          "2025-02-21T00:00:00.000000000",
          "2025-02-24T00:00:00.000000000",
          "2025-02-25T00:00:00.000000000",
          "2025-02-26T00:00:00.000000000",
          "2025-02-27T00:00:00.000000000",
          "2025-02-28T00:00:00.000000000",
          "2025-03-03T00:00:00.000000000",
          "2025-03-04T00:00:00.000000000",
          "2025-03-05T00:00:00.000000000",
          "2025-03-06T00:00:00.000000000",
          "2025-03-07T00:00:00.000000000",
          "2025-03-10T00:00:00.000000000",
          "2025-03-11T00:00:00.000000000",
          "2025-03-12T00:00:00.000000000",
          "2025-03-13T00:00:00.000000000",
          "2025-03-14T00:00:00.000000000",
          "2025-03-17T00:00:00.000000000",
          "2025-03-18T00:00:00.000000000"
         ],
         "xaxis": "x2",
         "y": {
          "bdata": "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",
          "dtype": "f8"
         },
         "yaxis": "y2"
        },
        {
         "mode": "lines",
         "name": "Signal",
         "type": "scatter",
         "x": [
          "2024-03-18T00:00:00.000000000",
          "2024-03-19T00:00:00.000000000",
          "2024-03-20T00:00:00.000000000",
          "2024-03-21T00:00:00.000000000",
          "2024-03-22T00:00:00.000000000",
          "2024-03-25T00:00:00.000000000",
          "2024-03-26T00:00:00.000000000",
          "2024-03-27T00:00:00.000000000",
          "2024-03-28T00:00:00.000000000",
          "2024-04-01T00:00:00.000000000",
          "2024-04-02T00:00:00.000000000",
          "2024-04-03T00:00:00.000000000",
          "2024-04-04T00:00:00.000000000",
          "2024-04-05T00:00:00.000000000",
          "2024-04-08T00:00:00.000000000",
          "2024-04-09T00:00:00.000000000",
          "2024-04-10T00:00:00.000000000",
          "2024-04-11T00:00:00.000000000",
          "2024-04-12T00:00:00.000000000",
          "2024-04-15T00:00:00.000000000",
          "2024-04-16T00:00:00.000000000",
          "2024-04-17T00:00:00.000000000",
          "2024-04-18T00:00:00.000000000",
          "2024-04-19T00:00:00.000000000",
          "2024-04-22T00:00:00.000000000",
          "2024-04-23T00:00:00.000000000",
          "2024-04-24T00:00:00.000000000",
          "2024-04-25T00:00:00.000000000",
          "2024-04-26T00:00:00.000000000",
          "2024-04-29T00:00:00.000000000",
          "2024-04-30T00:00:00.000000000",
          "2024-05-01T00:00:00.000000000",
          "2024-05-02T00:00:00.000000000",
          "2024-05-03T00:00:00.000000000",
          "2024-05-06T00:00:00.000000000",
          "2024-05-07T00:00:00.000000000",
          "2024-05-08T00:00:00.000000000",
          "2024-05-09T00:00:00.000000000",
          "2024-05-10T00:00:00.000000000",
          "2024-05-13T00:00:00.000000000",
          "2024-05-14T00:00:00.000000000",
          "2024-05-15T00:00:00.000000000",
          "2024-05-16T00:00:00.000000000",
          "2024-05-17T00:00:00.000000000",
          "2024-05-20T00:00:00.000000000",
          "2024-05-21T00:00:00.000000000",
          "2024-05-22T00:00:00.000000000",
          "2024-05-23T00:00:00.000000000",
          "2024-05-24T00:00:00.000000000",
          "2024-05-28T00:00:00.000000000",
          "2024-05-29T00:00:00.000000000",
          "2024-05-30T00:00:00.000000000",
          "2024-05-31T00:00:00.000000000",
          "2024-06-03T00:00:00.000000000",
          "2024-06-04T00:00:00.000000000",
          "2024-06-05T00:00:00.000000000",
          "2024-06-06T00:00:00.000000000",
          "2024-06-07T00:00:00.000000000",
          "2024-06-10T00:00:00.000000000",
          "2024-06-11T00:00:00.000000000",
          "2024-06-12T00:00:00.000000000",
          "2024-06-13T00:00:00.000000000",
          "2024-06-14T00:00:00.000000000",
          "2024-06-17T00:00:00.000000000",
          "2024-06-18T00:00:00.000000000",
          "2024-06-20T00:00:00.000000000",
          "2024-06-21T00:00:00.000000000",
          "2024-06-24T00:00:00.000000000",
          "2024-06-25T00:00:00.000000000",
          "2024-06-26T00:00:00.000000000",
          "2024-06-27T00:00:00.000000000",
          "2024-06-28T00:00:00.000000000",
          "2024-07-01T00:00:00.000000000",
          "2024-07-02T00:00:00.000000000",
          "2024-07-03T00:00:00.000000000",
          "2024-07-05T00:00:00.000000000",
          "2024-07-08T00:00:00.000000000",
          "2024-07-09T00:00:00.000000000",
          "2024-07-10T00:00:00.000000000",
          "2024-07-11T00:00:00.000000000",
          "2024-07-12T00:00:00.000000000",
          "2024-07-15T00:00:00.000000000",
          "2024-07-16T00:00:00.000000000",
          "2024-07-17T00:00:00.000000000",
          "2024-07-18T00:00:00.000000000",
          "2024-07-19T00:00:00.000000000",
          "2024-07-22T00:00:00.000000000",
          "2024-07-23T00:00:00.000000000",
          "2024-07-24T00:00:00.000000000",
          "2024-07-25T00:00:00.000000000",
          "2024-07-26T00:00:00.000000000",
          "2024-07-29T00:00:00.000000000",
          "2024-07-30T00:00:00.000000000",
          "2024-07-31T00:00:00.000000000",
          "2024-08-01T00:00:00.000000000",
          "2024-08-02T00:00:00.000000000",
          "2024-08-05T00:00:00.000000000",
          "2024-08-06T00:00:00.000000000",
          "2024-08-07T00:00:00.000000000",
          "2024-08-08T00:00:00.000000000",
          "2024-08-09T00:00:00.000000000",
          "2024-08-12T00:00:00.000000000",
          "2024-08-13T00:00:00.000000000",
          "2024-08-14T00:00:00.000000000",
          "2024-08-15T00:00:00.000000000",
          "2024-08-16T00:00:00.000000000",
          "2024-08-19T00:00:00.000000000",
          "2024-08-20T00:00:00.000000000",
          "2024-08-21T00:00:00.000000000",
          "2024-08-22T00:00:00.000000000",
          "2024-08-23T00:00:00.000000000",
          "2024-08-26T00:00:00.000000000",
          "2024-08-27T00:00:00.000000000",
          "2024-08-28T00:00:00.000000000",
          "2024-08-29T00:00:00.000000000",
          "2024-08-30T00:00:00.000000000",
          "2024-09-03T00:00:00.000000000",
          "2024-09-04T00:00:00.000000000",
          "2024-09-05T00:00:00.000000000",
          "2024-09-06T00:00:00.000000000",
          "2024-09-09T00:00:00.000000000",
          "2024-09-10T00:00:00.000000000",
          "2024-09-11T00:00:00.000000000",
          "2024-09-12T00:00:00.000000000",
          "2024-09-13T00:00:00.000000000",
          "2024-09-16T00:00:00.000000000",
          "2024-09-17T00:00:00.000000000",
          "2024-09-18T00:00:00.000000000",
          "2024-09-19T00:00:00.000000000",
          "2024-09-20T00:00:00.000000000",
          "2024-09-23T00:00:00.000000000",
          "2024-09-24T00:00:00.000000000",
          "2024-09-25T00:00:00.000000000",
          "2024-09-26T00:00:00.000000000",
          "2024-09-27T00:00:00.000000000",
          "2024-09-30T00:00:00.000000000",
          "2024-10-01T00:00:00.000000000",
          "2024-10-02T00:00:00.000000000",
          "2024-10-03T00:00:00.000000000",
          "2024-10-04T00:00:00.000000000",
          "2024-10-07T00:00:00.000000000",
          "2024-10-08T00:00:00.000000000",
          "2024-10-09T00:00:00.000000000",
          "2024-10-10T00:00:00.000000000",
          "2024-10-11T00:00:00.000000000",
          "2024-10-14T00:00:00.000000000",
          "2024-10-15T00:00:00.000000000",
          "2024-10-16T00:00:00.000000000",
          "2024-10-17T00:00:00.000000000",
          "2024-10-18T00:00:00.000000000",
          "2024-10-21T00:00:00.000000000",
          "2024-10-22T00:00:00.000000000",
          "2024-10-23T00:00:00.000000000",
          "2024-10-24T00:00:00.000000000",
          "2024-10-25T00:00:00.000000000",
          "2024-10-28T00:00:00.000000000",
          "2024-10-29T00:00:00.000000000",
          "2024-10-30T00:00:00.000000000",
          "2024-10-31T00:00:00.000000000",
          "2024-11-01T00:00:00.000000000",
          "2024-11-04T00:00:00.000000000",
          "2024-11-05T00:00:00.000000000",
          "2024-11-06T00:00:00.000000000",
          "2024-11-07T00:00:00.000000000",
          "2024-11-08T00:00:00.000000000",
          "2024-11-11T00:00:00.000000000",
          "2024-11-12T00:00:00.000000000",
          "2024-11-13T00:00:00.000000000",
          "2024-11-14T00:00:00.000000000",
          "2024-11-15T00:00:00.000000000",
          "2024-11-18T00:00:00.000000000",
          "2024-11-19T00:00:00.000000000",
          "2024-11-20T00:00:00.000000000",
          "2024-11-21T00:00:00.000000000",
          "2024-11-22T00:00:00.000000000",
          "2024-11-25T00:00:00.000000000",
          "2024-11-26T00:00:00.000000000",
          "2024-11-27T00:00:00.000000000",
          "2024-11-29T00:00:00.000000000",
          "2024-12-02T00:00:00.000000000",
          "2024-12-03T00:00:00.000000000",
          "2024-12-04T00:00:00.000000000",
          "2024-12-05T00:00:00.000000000",
          "2024-12-06T00:00:00.000000000",
          "2024-12-09T00:00:00.000000000",
          "2024-12-10T00:00:00.000000000",
          "2024-12-11T00:00:00.000000000",
          "2024-12-12T00:00:00.000000000",
          "2024-12-13T00:00:00.000000000",
          "2024-12-16T00:00:00.000000000",
          "2024-12-17T00:00:00.000000000",
          "2024-12-18T00:00:00.000000000",
          "2024-12-19T00:00:00.000000000",
          "2024-12-20T00:00:00.000000000",
          "2024-12-23T00:00:00.000000000",
          "2024-12-24T00:00:00.000000000",
          "2024-12-26T00:00:00.000000000",
          "2024-12-27T00:00:00.000000000",
          "2024-12-30T00:00:00.000000000",
          "2024-12-31T00:00:00.000000000",
          "2025-01-02T00:00:00.000000000",
          "2025-01-03T00:00:00.000000000",
          "2025-01-06T00:00:00.000000000",
          "2025-01-07T00:00:00.000000000",
          "2025-01-08T00:00:00.000000000",
          "2025-01-10T00:00:00.000000000",
          "2025-01-13T00:00:00.000000000",
          "2025-01-14T00:00:00.000000000",
          "2025-01-15T00:00:00.000000000",
          "2025-01-16T00:00:00.000000000",
          "2025-01-17T00:00:00.000000000",
          "2025-01-21T00:00:00.000000000",
          "2025-01-22T00:00:00.000000000",
          "2025-01-23T00:00:00.000000000",
          "2025-01-24T00:00:00.000000000",
          "2025-01-27T00:00:00.000000000",
          "2025-01-28T00:00:00.000000000",
          "2025-01-29T00:00:00.000000000",
          "2025-01-30T00:00:00.000000000",
          "2025-01-31T00:00:00.000000000",
          "2025-02-03T00:00:00.000000000",
          "2025-02-04T00:00:00.000000000",
          "2025-02-05T00:00:00.000000000",
          "2025-02-06T00:00:00.000000000",
          "2025-02-07T00:00:00.000000000",
          "2025-02-10T00:00:00.000000000",
          "2025-02-11T00:00:00.000000000",
          "2025-02-12T00:00:00.000000000",
          "2025-02-13T00:00:00.000000000",
          "2025-02-14T00:00:00.000000000",
          "2025-02-18T00:00:00.000000000",
          "2025-02-19T00:00:00.000000000",
          "2025-02-20T00:00:00.000000000",
          "2025-02-21T00:00:00.000000000",
          "2025-02-24T00:00:00.000000000",
          "2025-02-25T00:00:00.000000000",
          "2025-02-26T00:00:00.000000000",
          "2025-02-27T00:00:00.000000000",
          "2025-02-28T00:00:00.000000000",
          "2025-03-03T00:00:00.000000000",
          "2025-03-04T00:00:00.000000000",
          "2025-03-05T00:00:00.000000000",
          "2025-03-06T00:00:00.000000000",
          "2025-03-07T00:00:00.000000000",
          "2025-03-10T00:00:00.000000000",
          "2025-03-11T00:00:00.000000000",
          "2025-03-12T00:00:00.000000000",
          "2025-03-13T00:00:00.000000000",
          "2025-03-14T00:00:00.000000000",
          "2025-03-17T00:00:00.000000000",
          "2025-03-18T00:00:00.000000000"
         ],
         "xaxis": "x2",
         "y": {
          "bdata": "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",
          "dtype": "f8"
         },
         "yaxis": "y2"
        },
        {
         "name": "Hist",
         "type": "bar",
         "x": [
          "2024-03-18T00:00:00.000000000",
          "2024-03-19T00:00:00.000000000",
          "2024-03-20T00:00:00.000000000",
          "2024-03-21T00:00:00.000000000",
          "2024-03-22T00:00:00.000000000",
          "2024-03-25T00:00:00.000000000",
          "2024-03-26T00:00:00.000000000",
          "2024-03-27T00:00:00.000000000",
          "2024-03-28T00:00:00.000000000",
          "2024-04-01T00:00:00.000000000",
          "2024-04-02T00:00:00.000000000",
          "2024-04-03T00:00:00.000000000",
          "2024-04-04T00:00:00.000000000",
          "2024-04-05T00:00:00.000000000",
          "2024-04-08T00:00:00.000000000",
          "2024-04-09T00:00:00.000000000",
          "2024-04-10T00:00:00.000000000",
          "2024-04-11T00:00:00.000000000",
          "2024-04-12T00:00:00.000000000",
          "2024-04-15T00:00:00.000000000",
          "2024-04-16T00:00:00.000000000",
          "2024-04-17T00:00:00.000000000",
          "2024-04-18T00:00:00.000000000",
          "2024-04-19T00:00:00.000000000",
          "2024-04-22T00:00:00.000000000",
          "2024-04-23T00:00:00.000000000",
          "2024-04-24T00:00:00.000000000",
          "2024-04-25T00:00:00.000000000",
          "2024-04-26T00:00:00.000000000",
          "2024-04-29T00:00:00.000000000",
          "2024-04-30T00:00:00.000000000",
          "2024-05-01T00:00:00.000000000",
          "2024-05-02T00:00:00.000000000",
          "2024-05-03T00:00:00.000000000",
          "2024-05-06T00:00:00.000000000",
          "2024-05-07T00:00:00.000000000",
          "2024-05-08T00:00:00.000000000",
          "2024-05-09T00:00:00.000000000",
          "2024-05-10T00:00:00.000000000",
          "2024-05-13T00:00:00.000000000",
          "2024-05-14T00:00:00.000000000",
          "2024-05-15T00:00:00.000000000",
          "2024-05-16T00:00:00.000000000",
          "2024-05-17T00:00:00.000000000",
          "2024-05-20T00:00:00.000000000",
          "2024-05-21T00:00:00.000000000",
          "2024-05-22T00:00:00.000000000",
          "2024-05-23T00:00:00.000000000",
          "2024-05-24T00:00:00.000000000",
          "2024-05-28T00:00:00.000000000",
          "2024-05-29T00:00:00.000000000",
          "2024-05-30T00:00:00.000000000",
          "2024-05-31T00:00:00.000000000",
          "2024-06-03T00:00:00.000000000",
          "2024-06-04T00:00:00.000000000",
          "2024-06-05T00:00:00.000000000",
          "2024-06-06T00:00:00.000000000",
          "2024-06-07T00:00:00.000000000",
          "2024-06-10T00:00:00.000000000",
          "2024-06-11T00:00:00.000000000",
          "2024-06-12T00:00:00.000000000",
          "2024-06-13T00:00:00.000000000",
          "2024-06-14T00:00:00.000000000",
          "2024-06-17T00:00:00.000000000",
          "2024-06-18T00:00:00.000000000",
          "2024-06-20T00:00:00.000000000",
          "2024-06-21T00:00:00.000000000",
          "2024-06-24T00:00:00.000000000",
          "2024-06-25T00:00:00.000000000",
          "2024-06-26T00:00:00.000000000",
          "2024-06-27T00:00:00.000000000",
          "2024-06-28T00:00:00.000000000",
          "2024-07-01T00:00:00.000000000",
          "2024-07-02T00:00:00.000000000",
          "2024-07-03T00:00:00.000000000",
          "2024-07-05T00:00:00.000000000",
          "2024-07-08T00:00:00.000000000",
          "2024-07-09T00:00:00.000000000",
          "2024-07-10T00:00:00.000000000",
          "2024-07-11T00:00:00.000000000",
          "2024-07-12T00:00:00.000000000",
          "2024-07-15T00:00:00.000000000",
          "2024-07-16T00:00:00.000000000",
          "2024-07-17T00:00:00.000000000",
          "2024-07-18T00:00:00.000000000",
          "2024-07-19T00:00:00.000000000",
          "2024-07-22T00:00:00.000000000",
          "2024-07-23T00:00:00.000000000",
          "2024-07-24T00:00:00.000000000",
          "2024-07-25T00:00:00.000000000",
          "2024-07-26T00:00:00.000000000",
          "2024-07-29T00:00:00.000000000",
          "2024-07-30T00:00:00.000000000",
          "2024-07-31T00:00:00.000000000",
          "2024-08-01T00:00:00.000000000",
          "2024-08-02T00:00:00.000000000",
          "2024-08-05T00:00:00.000000000",
          "2024-08-06T00:00:00.000000000",
          "2024-08-07T00:00:00.000000000",
          "2024-08-08T00:00:00.000000000",
          "2024-08-09T00:00:00.000000000",
          "2024-08-12T00:00:00.000000000",
          "2024-08-13T00:00:00.000000000",
          "2024-08-14T00:00:00.000000000",
          "2024-08-15T00:00:00.000000000",
          "2024-08-16T00:00:00.000000000",
          "2024-08-19T00:00:00.000000000",
          "2024-08-20T00:00:00.000000000",
          "2024-08-21T00:00:00.000000000",
          "2024-08-22T00:00:00.000000000",
          "2024-08-23T00:00:00.000000000",
          "2024-08-26T00:00:00.000000000",
          "2024-08-27T00:00:00.000000000",
          "2024-08-28T00:00:00.000000000",
          "2024-08-29T00:00:00.000000000",
          "2024-08-30T00:00:00.000000000",
          "2024-09-03T00:00:00.000000000",
          "2024-09-04T00:00:00.000000000",
          "2024-09-05T00:00:00.000000000",
          "2024-09-06T00:00:00.000000000",
          "2024-09-09T00:00:00.000000000",
          "2024-09-10T00:00:00.000000000",
          "2024-09-11T00:00:00.000000000",
          "2024-09-12T00:00:00.000000000",
          "2024-09-13T00:00:00.000000000",
          "2024-09-16T00:00:00.000000000",
          "2024-09-17T00:00:00.000000000",
          "2024-09-18T00:00:00.000000000",
          "2024-09-19T00:00:00.000000000",
          "2024-09-20T00:00:00.000000000",
          "2024-09-23T00:00:00.000000000",
          "2024-09-24T00:00:00.000000000",
          "2024-09-25T00:00:00.000000000",
          "2024-09-26T00:00:00.000000000",
          "2024-09-27T00:00:00.000000000",
          "2024-09-30T00:00:00.000000000",
          "2024-10-01T00:00:00.000000000",
          "2024-10-02T00:00:00.000000000",
          "2024-10-03T00:00:00.000000000",
          "2024-10-04T00:00:00.000000000",
          "2024-10-07T00:00:00.000000000",
          "2024-10-08T00:00:00.000000000",
          "2024-10-09T00:00:00.000000000",
          "2024-10-10T00:00:00.000000000",
          "2024-10-11T00:00:00.000000000",
          "2024-10-14T00:00:00.000000000",
          "2024-10-15T00:00:00.000000000",
          "2024-10-16T00:00:00.000000000",
          "2024-10-17T00:00:00.000000000",
          "2024-10-18T00:00:00.000000000",
          "2024-10-21T00:00:00.000000000",
          "2024-10-22T00:00:00.000000000",
          "2024-10-23T00:00:00.000000000",
          "2024-10-24T00:00:00.000000000",
          "2024-10-25T00:00:00.000000000",
          "2024-10-28T00:00:00.000000000",
          "2024-10-29T00:00:00.000000000",
          "2024-10-30T00:00:00.000000000",
          "2024-10-31T00:00:00.000000000",
          "2024-11-01T00:00:00.000000000",
          "2024-11-04T00:00:00.000000000",
          "2024-11-05T00:00:00.000000000",
          "2024-11-06T00:00:00.000000000",
          "2024-11-07T00:00:00.000000000",
          "2024-11-08T00:00:00.000000000",
          "2024-11-11T00:00:00.000000000",
          "2024-11-12T00:00:00.000000000",
          "2024-11-13T00:00:00.000000000",
          "2024-11-14T00:00:00.000000000",
          "2024-11-15T00:00:00.000000000",
          "2024-11-18T00:00:00.000000000",
          "2024-11-19T00:00:00.000000000",
          "2024-11-20T00:00:00.000000000",
          "2024-11-21T00:00:00.000000000",
          "2024-11-22T00:00:00.000000000",
          "2024-11-25T00:00:00.000000000",
          "2024-11-26T00:00:00.000000000",
          "2024-11-27T00:00:00.000000000",
          "2024-11-29T00:00:00.000000000",
          "2024-12-02T00:00:00.000000000",
          "2024-12-03T00:00:00.000000000",
          "2024-12-04T00:00:00.000000000",
          "2024-12-05T00:00:00.000000000",
          "2024-12-06T00:00:00.000000000",
          "2024-12-09T00:00:00.000000000",
          "2024-12-10T00:00:00.000000000",
          "2024-12-11T00:00:00.000000000",
          "2024-12-12T00:00:00.000000000",
          "2024-12-13T00:00:00.000000000",
          "2024-12-16T00:00:00.000000000",
          "2024-12-17T00:00:00.000000000",
          "2024-12-18T00:00:00.000000000",
          "2024-12-19T00:00:00.000000000",
          "2024-12-20T00:00:00.000000000",
          "2024-12-23T00:00:00.000000000",
          "2024-12-24T00:00:00.000000000",
          "2024-12-26T00:00:00.000000000",
          "2024-12-27T00:00:00.000000000",
          "2024-12-30T00:00:00.000000000",
          "2024-12-31T00:00:00.000000000",
          "2025-01-02T00:00:00.000000000",
          "2025-01-03T00:00:00.000000000",
          "2025-01-06T00:00:00.000000000",
          "2025-01-07T00:00:00.000000000",
          "2025-01-08T00:00:00.000000000",
          "2025-01-10T00:00:00.000000000",
          "2025-01-13T00:00:00.000000000",
          "2025-01-14T00:00:00.000000000",
          "2025-01-15T00:00:00.000000000",
          "2025-01-16T00:00:00.000000000",
          "2025-01-17T00:00:00.000000000",
          "2025-01-21T00:00:00.000000000",
          "2025-01-22T00:00:00.000000000",
          "2025-01-23T00:00:00.000000000",
          "2025-01-24T00:00:00.000000000",
          "2025-01-27T00:00:00.000000000",
          "2025-01-28T00:00:00.000000000",
          "2025-01-29T00:00:00.000000000",
          "2025-01-30T00:00:00.000000000",
          "2025-01-31T00:00:00.000000000",
          "2025-02-03T00:00:00.000000000",
          "2025-02-04T00:00:00.000000000",
          "2025-02-05T00:00:00.000000000",
          "2025-02-06T00:00:00.000000000",
          "2025-02-07T00:00:00.000000000",
          "2025-02-10T00:00:00.000000000",
          "2025-02-11T00:00:00.000000000",
          "2025-02-12T00:00:00.000000000",
          "2025-02-13T00:00:00.000000000",
          "2025-02-14T00:00:00.000000000",
          "2025-02-18T00:00:00.000000000",
          "2025-02-19T00:00:00.000000000",
          "2025-02-20T00:00:00.000000000",
          "2025-02-21T00:00:00.000000000",
          "2025-02-24T00:00:00.000000000",
          "2025-02-25T00:00:00.000000000",
          "2025-02-26T00:00:00.000000000",
          "2025-02-27T00:00:00.000000000",
          "2025-02-28T00:00:00.000000000",
          "2025-03-03T00:00:00.000000000",
          "2025-03-04T00:00:00.000000000",
          "2025-03-05T00:00:00.000000000",
          "2025-03-06T00:00:00.000000000",
          "2025-03-07T00:00:00.000000000",
          "2025-03-10T00:00:00.000000000",
          "2025-03-11T00:00:00.000000000",
          "2025-03-12T00:00:00.000000000",
          "2025-03-13T00:00:00.000000000",
          "2025-03-14T00:00:00.000000000",
          "2025-03-17T00:00:00.000000000",
          "2025-03-18T00:00:00.000000000"
         ],
         "xaxis": "x2",
         "y": {
          "bdata": "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",
          "dtype": "f8"
         },
         "yaxis": "y2"
        }
       ],
       "layout": {
        "annotations": [
         {
          "font": {
           "size": 16
          },
          "showarrow": false,
          "text": "ロウソク足チャート",
          "x": 0.5,
          "xanchor": "center",
          "xref": "paper",
          "y": 0.9999999999999999,
          "yanchor": "bottom",
          "yref": "paper"
         },
         {
          "font": {
           "size": 16
          },
          "showarrow": false,
          "text": "MACD",
          "x": 0.5,
          "xanchor": "center",
          "xref": "paper",
          "y": 0.35,
          "yanchor": "bottom",
          "yref": "paper"
         }
        ],
        "template": {
         "data": {
          "bar": [
           {
            "error_x": {
             "color": "#2a3f5f"
            },
            "error_y": {
             "color": "#2a3f5f"
            },
            "marker": {
             "line": {
              "color": "#E5ECF6",
              "width": 0.5
             },
             "pattern": {
              "fillmode": "overlay",
              "size": 10,
              "solidity": 0.2
             }
            },
            "type": "bar"
           }
          ],
          "barpolar": [
           {
            "marker": {
             "line": {
              "color": "#E5ECF6",
              "width": 0.5
             },
             "pattern": {
              "fillmode": "overlay",
              "size": 10,
              "solidity": 0.2
             }
            },
            "type": "barpolar"
           }
          ],
          "carpet": [
           {
            "aaxis": {
             "endlinecolor": "#2a3f5f",
             "gridcolor": "white",
             "linecolor": "white",
             "minorgridcolor": "white",
             "startlinecolor": "#2a3f5f"
            },
            "baxis": {
             "endlinecolor": "#2a3f5f",
             "gridcolor": "white",
             "linecolor": "white",
             "minorgridcolor": "white",
             "startlinecolor": "#2a3f5f"
            },
            "type": "carpet"
           }
          ],
          "choropleth": [
           {
            "colorbar": {
             "outlinewidth": 0,
             "ticks": ""
            },
            "type": "choropleth"
           }
          ],
          "contour": [
           {
            "colorbar": {
             "outlinewidth": 0,
             "ticks": ""
            },
            "colorscale": [
             [
              0,
              "#0d0887"
             ],
             [
              0.1111111111111111,
              "#46039f"
             ],
             [
              0.2222222222222222,
              "#7201a8"
             ],
             [
              0.3333333333333333,
              "#9c179e"
             ],
             [
              0.4444444444444444,
              "#bd3786"
             ],
             [
              0.5555555555555556,
              "#d8576b"
             ],
             [
              0.6666666666666666,
              "#ed7953"
             ],
             [
              0.7777777777777778,
              "#fb9f3a"
             ],
             [
              0.8888888888888888,
              "#fdca26"
             ],
             [
              1,
              "#f0f921"
             ]
            ],
            "type": "contour"
           }
          ],
          "contourcarpet": [
           {
            "colorbar": {
             "outlinewidth": 0,
             "ticks": ""
            },
            "type": "contourcarpet"
           }
          ],
          "heatmap": [
           {
            "colorbar": {
             "outlinewidth": 0,
             "ticks": ""
            },
            "colorscale": [
             [
              0,
              "#0d0887"
             ],
             [
              0.1111111111111111,
              "#46039f"
             ],
             [
              0.2222222222222222,
              "#7201a8"
             ],
             [
              0.3333333333333333,
              "#9c179e"
             ],
             [
              0.4444444444444444,
              "#bd3786"
             ],
             [
              0.5555555555555556,
              "#d8576b"
             ],
             [
              0.6666666666666666,
              "#ed7953"
             ],
             [
              0.7777777777777778,
              "#fb9f3a"
             ],
             [
              0.8888888888888888,
              "#fdca26"
             ],
             [
              1,
              "#f0f921"
             ]
            ],
            "type": "heatmap"
           }
          ],
          "histogram": [
           {
            "marker": {
             "pattern": {
              "fillmode": "overlay",
              "size": 10,
              "solidity": 0.2
             }
            },
            "type": "histogram"
           }
          ],
          "histogram2d": [
           {
            "colorbar": {
             "outlinewidth": 0,
             "ticks": ""
            },
            "colorscale": [
             [
              0,
              "#0d0887"
             ],
             [
              0.1111111111111111,
              "#46039f"
             ],
             [
              0.2222222222222222,
              "#7201a8"
             ],
             [
              0.3333333333333333,
              "#9c179e"
             ],
             [
              0.4444444444444444,
              "#bd3786"
             ],
             [
              0.5555555555555556,
              "#d8576b"
             ],
             [
              0.6666666666666666,
              "#ed7953"
             ],
             [
              0.7777777777777778,
              "#fb9f3a"
             ],
             [
              0.8888888888888888,
              "#fdca26"
             ],
             [
              1,
              "#f0f921"
             ]
            ],
            "type": "histogram2d"
           }
          ],
          "histogram2dcontour": [
           {
            "colorbar": {
             "outlinewidth": 0,
             "ticks": ""
            },
            "colorscale": [
             [
              0,
              "#0d0887"
             ],
             [
              0.1111111111111111,
              "#46039f"
             ],
             [
              0.2222222222222222,
              "#7201a8"
             ],
             [
              0.3333333333333333,
              "#9c179e"
             ],
             [
              0.4444444444444444,
              "#bd3786"
             ],
             [
              0.5555555555555556,
              "#d8576b"
             ],
             [
              0.6666666666666666,
              "#ed7953"
             ],
             [
              0.7777777777777778,
              "#fb9f3a"
             ],
             [
              0.8888888888888888,
              "#fdca26"
             ],
             [
              1,
              "#f0f921"
             ]
            ],
            "type": "histogram2dcontour"
           }
          ],
          "mesh3d": [
           {
            "colorbar": {
             "outlinewidth": 0,
             "ticks": ""
            },
            "type": "mesh3d"
           }
          ],
          "parcoords": [
           {
            "line": {
             "colorbar": {
              "outlinewidth": 0,
              "ticks": ""
             }
            },
            "type": "parcoords"
           }
          ],
          "pie": [
           {
            "automargin": true,
            "type": "pie"
           }
          ],
          "scatter": [
           {
            "fillpattern": {
             "fillmode": "overlay",
             "size": 10,
             "solidity": 0.2
            },
            "type": "scatter"
           }
          ],
          "scatter3d": [
           {
            "line": {
             "colorbar": {
              "outlinewidth": 0,
              "ticks": ""
             }
            },
            "marker": {
             "colorbar": {
              "outlinewidth": 0,
              "ticks": ""
             }
            },
            "type": "scatter3d"
           }
          ],
          "scattercarpet": [
           {
            "marker": {
             "colorbar": {
              "outlinewidth": 0,
              "ticks": ""
             }
            },
            "type": "scattercarpet"
           }
          ],
          "scattergeo": [
           {
            "marker": {
             "colorbar": {
              "outlinewidth": 0,
              "ticks": ""
             }
            },
            "type": "scattergeo"
           }
          ],
          "scattergl": [
           {
            "marker": {
             "colorbar": {
              "outlinewidth": 0,
              "ticks": ""
             }
            },
            "type": "scattergl"
           }
          ],
          "scattermap": [
           {
            "marker": {
             "colorbar": {
              "outlinewidth": 0,
              "ticks": ""
             }
            },
            "type": "scattermap"
           }
          ],
          "scattermapbox": [
           {
            "marker": {
             "colorbar": {
              "outlinewidth": 0,
              "ticks": ""
             }
            },
            "type": "scattermapbox"
           }
          ],
          "scatterpolar": [
           {
            "marker": {
             "colorbar": {
              "outlinewidth": 0,
              "ticks": ""
             }
            },
            "type": "scatterpolar"
           }
          ],
          "scatterpolargl": [
           {
            "marker": {
             "colorbar": {
              "outlinewidth": 0,
              "ticks": ""
             }
            },
            "type": "scatterpolargl"
           }
          ],
          "scatterternary": [
           {
            "marker": {
             "colorbar": {
              "outlinewidth": 0,
              "ticks": ""
             }
            },
            "type": "scatterternary"
           }
          ],
          "surface": [
           {
            "colorbar": {
             "outlinewidth": 0,
             "ticks": ""
            },
            "colorscale": [
             [
              0,
              "#0d0887"
             ],
             [
              0.1111111111111111,
              "#46039f"
             ],
             [
              0.2222222222222222,
              "#7201a8"
             ],
             [
              0.3333333333333333,
              "#9c179e"
             ],
             [
              0.4444444444444444,
              "#bd3786"
             ],
             [
              0.5555555555555556,
              "#d8576b"
             ],
             [
              0.6666666666666666,
              "#ed7953"
             ],
             [
              0.7777777777777778,
              "#fb9f3a"
             ],
             [
              0.8888888888888888,
              "#fdca26"
             ],
             [
              1,
              "#f0f921"
             ]
            ],
            "type": "surface"
           }
          ],
          "table": [
           {
            "cells": {
             "fill": {
              "color": "#EBF0F8"
             },
             "line": {
              "color": "white"
             }
            },
            "header": {
             "fill": {
              "color": "#C8D4E3"
             },
             "line": {
              "color": "white"
             }
            },
            "type": "table"
           }
          ]
         },
         "layout": {
          "annotationdefaults": {
           "arrowcolor": "#2a3f5f",
           "arrowhead": 0,
           "arrowwidth": 1
          },
          "autotypenumbers": "strict",
          "coloraxis": {
           "colorbar": {
            "outlinewidth": 0,
            "ticks": ""
           }
          },
          "colorscale": {
           "diverging": [
            [
             0,
             "#8e0152"
            ],
            [
             0.1,
             "#c51b7d"
            ],
            [
             0.2,
             "#de77ae"
            ],
            [
             0.3,
             "#f1b6da"
            ],
            [
             0.4,
             "#fde0ef"
            ],
            [
             0.5,
             "#f7f7f7"
            ],
            [
             0.6,
             "#e6f5d0"
            ],
            [
             0.7,
             "#b8e186"
            ],
            [
             0.8,
             "#7fbc41"
            ],
            [
             0.9,
             "#4d9221"
            ],
            [
             1,
             "#276419"
            ]
           ],
           "sequential": [
            [
             0,
             "#0d0887"
            ],
            [
             0.1111111111111111,
             "#46039f"
            ],
            [
             0.2222222222222222,
             "#7201a8"
            ],
            [
             0.3333333333333333,
             "#9c179e"
            ],
            [
             0.4444444444444444,
             "#bd3786"
            ],
            [
             0.5555555555555556,
             "#d8576b"
            ],
            [
             0.6666666666666666,
             "#ed7953"
            ],
            [
             0.7777777777777778,
             "#fb9f3a"
            ],
            [
             0.8888888888888888,
             "#fdca26"
            ],
            [
             1,
             "#f0f921"
            ]
           ],
           "sequentialminus": [
            [
             0,
             "#0d0887"
            ],
            [
             0.1111111111111111,
             "#46039f"
            ],
            [
             0.2222222222222222,
             "#7201a8"
            ],
            [
             0.3333333333333333,
             "#9c179e"
            ],
            [
             0.4444444444444444,
             "#bd3786"
            ],
            [
             0.5555555555555556,
             "#d8576b"
            ],
            [
             0.6666666666666666,
             "#ed7953"
            ],
            [
             0.7777777777777778,
             "#fb9f3a"
            ],
            [
             0.8888888888888888,
             "#fdca26"
            ],
            [
             1,
             "#f0f921"
            ]
           ]
          },
          "colorway": [
           "#636efa",
           "#EF553B",
           "#00cc96",
           "#ab63fa",
           "#FFA15A",
           "#19d3f3",
           "#FF6692",
           "#B6E880",
           "#FF97FF",
           "#FECB52"
          ],
          "font": {
           "color": "#2a3f5f"
          },
          "geo": {
           "bgcolor": "white",
           "lakecolor": "white",
           "landcolor": "#E5ECF6",
           "showlakes": true,
           "showland": true,
           "subunitcolor": "white"
          },
          "hoverlabel": {
           "align": "left"
          },
          "hovermode": "closest",
          "mapbox": {
           "style": "light"
          },
          "paper_bgcolor": "white",
          "plot_bgcolor": "#E5ECF6",
          "polar": {
           "angularaxis": {
            "gridcolor": "white",
            "linecolor": "white",
            "ticks": ""
           },
           "bgcolor": "#E5ECF6",
           "radialaxis": {
            "gridcolor": "white",
            "linecolor": "white",
            "ticks": ""
           }
          },
          "scene": {
           "xaxis": {
            "backgroundcolor": "#E5ECF6",
            "gridcolor": "white",
            "gridwidth": 2,
            "linecolor": "white",
            "showbackground": true,
            "ticks": "",
            "zerolinecolor": "white"
           },
           "yaxis": {
            "backgroundcolor": "#E5ECF6",
            "gridcolor": "white",
            "gridwidth": 2,
            "linecolor": "white",
            "showbackground": true,
            "ticks": "",
            "zerolinecolor": "white"
           },
           "zaxis": {
            "backgroundcolor": "#E5ECF6",
            "gridcolor": "white",
            "gridwidth": 2,
            "linecolor": "white",
            "showbackground": true,
            "ticks": "",
            "zerolinecolor": "white"
           }
          },
          "shapedefaults": {
           "line": {
            "color": "#2a3f5f"
           }
          },
          "ternary": {
           "aaxis": {
            "gridcolor": "white",
            "linecolor": "white",
            "ticks": ""
           },
           "baxis": {
            "gridcolor": "white",
            "linecolor": "white",
            "ticks": ""
           },
           "bgcolor": "#E5ECF6",
           "caxis": {
            "gridcolor": "white",
            "linecolor": "white",
            "ticks": ""
           }
          },
          "title": {
           "x": 0.05
          },
          "xaxis": {
           "automargin": true,
           "gridcolor": "white",
           "linecolor": "white",
           "ticks": "",
           "title": {
            "standoff": 15
           },
           "zerolinecolor": "white",
           "zerolinewidth": 2
          },
          "yaxis": {
           "automargin": true,
           "gridcolor": "white",
           "linecolor": "white",
           "ticks": "",
           "title": {
            "standoff": 15
           },
           "zerolinecolor": "white",
           "zerolinewidth": 2
          }
         }
        },
        "title": {
         "text": "Google Stock Price"
        },
        "xaxis": {
         "anchor": "y",
         "domain": [
          0,
          1
         ],
         "matches": "x2",
         "rangeslider": {
          "visible": false
         },
         "showticklabels": false
        },
        "xaxis2": {
         "anchor": "y2",
         "domain": [
          0,
          1
         ],
         "rangeslider": {
          "visible": true
         },
         "title": {
          "text": "Date"
         }
        },
        "yaxis": {
         "anchor": "x",
         "domain": [
          0.6499999999999999,
          0.9999999999999999
         ],
         "title": {
          "text": "Price(USD)"
         }
        },
        "yaxis2": {
         "anchor": "x2",
         "domain": [
          0,
          0.35
         ],
         "title": {
          "text": "MACD"
         }
        }
       }
      }
     },
     "metadata": {},
     "output_type": "display_data"
    }
   ],
   "source": [
    "fig  = make_subplots(rows=2, cols=1, shared_xaxes=True, vertical_spacing=0.3, subplot_titles=(\"ロウソク足チャート\", \"MACD\"))\n",
    "fig.add_trace(\n",
    "    go.Candlestick( # ロウソク足チャート\n",
    "        x=data_df.index,\n",
    "        open=data_df[\"Open\"],\n",
    "        high=data_df[\"High\"],\n",
    "        low=data_df[\"Low\"],\n",
    "        close=data_df[\"Close\"],\n",
    "        name=\"Candlestick\"\n",
    "    ), row=1, col=1)\n",
    "fig.add_trace( # MACD\n",
    "    go.Scatter(\n",
    "        x=data_df.index,\n",
    "        y=data_df[\"MACD\"],\n",
    "        mode=\"lines\",\n",
    "        name=\"MACD\"\n",
    "        ), row=2, col=1)\n",
    "fig.add_trace( # Signal\n",
    "    go.Scatter(\n",
    "        x=data_df.index,\n",
    "        y=data_df[\"Signal\"],\n",
    "        mode=\"lines\",\n",
    "        name=\"Signal\"\n",
    "        ), row=2, col=1)\n",
    "fig.add_trace( # Hist\n",
    "    go.Bar(\n",
    "        x=data_df.index,\n",
    "        y=data_df[\"Hist\"],\n",
    "        name=\"Hist\"\n",
    "    ), row=2, col=1)\n",
    "fig.update_layout(\n",
    "    title=\"Google Stock Price\",\n",
    "    xaxis2_title=\"Date\",\n",
    "    yaxis_title=\"Price(USD)\",\n",
    "    yaxis2_title=\"MACD\",\n",
    "    xaxis_rangeslider_visible=False,\n",
    "    xaxis2_rangeslider_visible=True\n",
    ")\n",
    "fig.show()\n"
   ]
  }
 ],
 "metadata": {
  "kernelspec": {
   "display_name": ".venv",
   "language": "python",
   "name": "python3"
  },
  "language_info": {
   "codemirror_mode": {
    "name": "ipython",
    "version": 3
   },
   "file_extension": ".py",
   "mimetype": "text/x-python",
   "name": "python",
   "nbconvert_exporter": "python",
   "pygments_lexer": "ipython3",
   "version": "3.13.2"
  }
 },
 "nbformat": 4,
 "nbformat_minor": 2
}
